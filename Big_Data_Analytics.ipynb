{
  "nbformat": 4,
  "nbformat_minor": 0,
  "metadata": {
    "colab": {
      "name": "Big_Data_Analytics.ipynb",
      "provenance": [],
      "collapsed_sections": []
    },
    "kernelspec": {
      "name": "python3",
      "display_name": "Python 3"
    }
  },
  "cells": [
    {
      "cell_type": "markdown",
      "metadata": {
        "id": "zjvI2PTc8FgW"
      },
      "source": [
        "# Big Data Analytics\r\n",
        "\r\n",
        "### by [Lorenzo Mario Amorosa](https://github.com/Lostefra)\r\n",
        "\r\n",
        "This notebook contains code snippets useful to study Big Data Analytics in python (`pyspark`)."
      ]
    },
    {
      "cell_type": "markdown",
      "metadata": {
        "id": "gKUZFkOi_w_-"
      },
      "source": [
        "## 1. Installation\r\n",
        "\r\n",
        "Install all the dependencies in Colab environment i.e. Apache Spark 2.4.7 with hadoop 2.6, Java 8 and Findspark to locate the spark in the system. Needed datasets are imported from Github."
      ]
    },
    {
      "cell_type": "code",
      "metadata": {
        "colab": {
          "base_uri": "https://localhost:8080/"
        },
        "id": "l96NWf3j8jMz",
        "outputId": "93e83e8d-dbcd-441e-d3d3-42f33187e734"
      },
      "source": [
        "!apt-get install openjdk-8-jdk-headless -qq > /dev/null\r\n",
        "!wget -q https://downloads.apache.org/spark/spark-2.4.7/spark-2.4.7-bin-hadoop2.6.tgz\r\n",
        "!tar xf spark-2.4.7-bin-hadoop2.6.tgz\r\n",
        "!pip install -q findspark\r\n",
        "print(\"Installation done\")\r\n",
        "\r\n",
        "import os\r\n",
        "os.environ[\"JAVA_HOME\"] = \"/usr/lib/jvm/java-8-openjdk-amd64\"\r\n",
        "os.environ[\"SPARK_HOME\"] = \"/content/spark-2.4.7-bin-hadoop2.6\"\r\n",
        "\r\n",
        "import findspark\r\n",
        "findspark.init()"
      ],
      "execution_count": null,
      "outputs": [
        {
          "output_type": "stream",
          "text": [
            "Installation done\n"
          ],
          "name": "stdout"
        }
      ]
    },
    {
      "cell_type": "code",
      "metadata": {
        "colab": {
          "base_uri": "https://localhost:8080/"
        },
        "id": "qDh4wO2kk1jE",
        "outputId": "5c6d7bb3-5515-4352-96bf-535bcecf6f49"
      },
      "source": [
        "!git clone https://github.com/Lostefra/big-data-analytics-snippets.git\r\n",
        "data_path = 'big-data-analytics-snippets/data/'"
      ],
      "execution_count": null,
      "outputs": [
        {
          "output_type": "stream",
          "text": [
            "Cloning into 'big-data-analytics-snippets'...\n",
            "remote: Enumerating objects: 38, done.\u001b[K\n",
            "remote: Counting objects: 100% (38/38), done.\u001b[K\n",
            "remote: Compressing objects: 100% (36/36), done.\u001b[K\n",
            "remote: Total 38 (delta 11), reused 0 (delta 0), pack-reused 0\u001b[K\n",
            "Unpacking objects: 100% (38/38), done.\n"
          ],
          "name": "stdout"
        }
      ]
    },
    {
      "cell_type": "markdown",
      "metadata": {
        "id": "QTIaXG4ZlmEn"
      },
      "source": [
        "## 2. Spark structured API"
      ]
    },
    {
      "cell_type": "markdown",
      "metadata": {
        "id": "WrdecQlNoskK"
      },
      "source": [
        "#### DataFrameReader\r\n",
        "\r\n",
        "`spark.read` is a `DataFrameReader` for reading data into a\r\n",
        "DataFrame, with methods: `format` (CSV, JSON), `schema` (schema of the data), `option`.\r\n",
        "\r\n",
        "Create a DataFrame from JSON file"
      ]
    },
    {
      "cell_type": "code",
      "metadata": {
        "colab": {
          "base_uri": "https://localhost:8080/"
        },
        "id": "UgzxI_h9ls7j",
        "outputId": "46be4314-682d-4816-9346-e7536e60e50d"
      },
      "source": [
        "from pyspark.sql import SparkSession\r\n",
        "\r\n",
        "spark = SparkSession.builder.appName(\"test\").getOrCreate()\r\n",
        "source = data_path + \"measurements.json\"\r\n",
        "df = spark.read.format(\"json\").load(source)\r\n",
        "df.show()"
      ],
      "execution_count": null,
      "outputs": [
        {
          "output_type": "stream",
          "text": [
            "+------+-------------+----------+------------------+-------+\n",
            "|  Code|Concentration|      Date|         Pollutant|Station|\n",
            "+------+-------------+----------+------------------+-------+\n",
            "| 88118|           79|2015-10-30|             Ozone| Rimini|\n",
            "|927170|           25|2015-10-08|Particulate matter|Ravenna|\n",
            "|190115|           59|2015-02-04|             Ozone| Rimini|\n",
            "|697379|            0|2015-12-13|             Ozone| Cesena|\n",
            "|887012|            5|2015-04-11|Particulate matter| Cesena|\n",
            "|969127|           20|2015-10-19|           Benzene|Bologna|\n",
            "|541554|           95|2015-10-16|  Nitrogen dioxide|Ravenna|\n",
            "|848686|           63|2015-03-23|             Ozone|Ravenna|\n",
            "|706846|           88|2015-05-02|Particulate matter|Ravenna|\n",
            "|102991|           41|2015-04-02|Particulate matter| Rimini|\n",
            "| 23433|           48|2015-01-06|           Benzene|Ravenna|\n",
            "|709920|           14|2015-12-23|  Nitrogen dioxide| Rimini|\n",
            "|138686|           97|2015-06-09|Particulate matter|Ravenna|\n",
            "|445291|           46|2015-10-26|             Ozone| Cesena|\n",
            "|678045|           64|2015-10-11|Particulate matter|Bologna|\n",
            "|467156|           49|2015-12-29|             Ozone|Ravenna|\n",
            "|443801|           80|2015-12-26|           Benzene| Rimini|\n",
            "|460813|           58|2015-10-18|             Ozone|Bologna|\n",
            "|669739|           82|2015-03-13|  Nitrogen dioxide| Cesena|\n",
            "|159668|           15|2015-07-28|             Ozone| Cesena|\n",
            "+------+-------------+----------+------------------+-------+\n",
            "only showing top 20 rows\n",
            "\n"
          ],
          "name": "stdout"
        }
      ]
    },
    {
      "cell_type": "markdown",
      "metadata": {
        "id": "1usHUZKyon7l"
      },
      "source": [
        "#### Schema on read\r\n",
        "\r\n",
        "The schema-on-read feature of Spark infers the following\r\n",
        "schema"
      ]
    },
    {
      "cell_type": "code",
      "metadata": {
        "colab": {
          "base_uri": "https://localhost:8080/"
        },
        "id": "EuFJOswfoWGV",
        "outputId": "de0c2cc4-880a-435b-c67e-b841bfb81aad"
      },
      "source": [
        "df.schema"
      ],
      "execution_count": null,
      "outputs": [
        {
          "output_type": "execute_result",
          "data": {
            "text/plain": [
              "StructType(List(StructField(Code,LongType,true),StructField(Concentration,LongType,true),StructField(Date,StringType,true),StructField(Pollutant,StringType,true),StructField(Station,StringType,true)))"
            ]
          },
          "metadata": {
            "tags": []
          },
          "execution_count": 4
        }
      ]
    },
    {
      "cell_type": "code",
      "metadata": {
        "colab": {
          "base_uri": "https://localhost:8080/"
        },
        "id": "Mn1KIOMKoXcx",
        "outputId": "7c74e389-35ba-4270-a0b0-2b286555d45e"
      },
      "source": [
        "df.printSchema()"
      ],
      "execution_count": null,
      "outputs": [
        {
          "output_type": "stream",
          "text": [
            "root\n",
            " |-- Code: long (nullable = true)\n",
            " |-- Concentration: long (nullable = true)\n",
            " |-- Date: string (nullable = true)\n",
            " |-- Pollutant: string (nullable = true)\n",
            " |-- Station: string (nullable = true)\n",
            "\n"
          ],
          "name": "stdout"
        }
      ]
    },
    {
      "cell_type": "markdown",
      "metadata": {
        "id": "nC-O8HQmq_2j"
      },
      "source": [
        "Column manipulation can be done through `col` or `column` functions. \r\n",
        "\r\n",
        "An expression in Spark is a set of transformations on\r\n",
        "values of a data frame row and can be done through `expr`function."
      ]
    },
    {
      "cell_type": "code",
      "metadata": {
        "id": "TNoPXFN_ocO4"
      },
      "source": [
        "from pyspark.sql.functions import col, expr\r\n",
        "\r\n",
        "e1 = expr(\"Concentration < 50 and Concentration > 10\") # SQL-like\r\n",
        "e2 = expr(\"Concentration * .9 + 0.01\") # SQL-like\r\n",
        "e3 = col(\"Concentration\") *.9 + 0.01 # DataFrame"
      ],
      "execution_count": null,
      "outputs": []
    },
    {
      "cell_type": "markdown",
      "metadata": {
        "id": "2V9MnvVoCoV5"
      },
      "source": [
        "Row manipulation requires importing Row from `pyspark.sql`"
      ]
    },
    {
      "cell_type": "code",
      "metadata": {
        "colab": {
          "base_uri": "https://localhost:8080/"
        },
        "id": "uRBw7Nv4pQ9U",
        "outputId": "379af842-15a2-4976-a96d-5778f2112f89"
      },
      "source": [
        "from pyspark.sql import Row\r\n",
        "meas = Row(88118,\"2015-10-30\",\"Ozone\",\"Rimini\",79)\r\n",
        "meas[0:2]"
      ],
      "execution_count": null,
      "outputs": [
        {
          "output_type": "execute_result",
          "data": {
            "text/plain": [
              "(88118, '2015-10-30')"
            ]
          },
          "metadata": {
            "tags": []
          },
          "execution_count": 7
        }
      ]
    },
    {
      "cell_type": "markdown",
      "metadata": {
        "id": "HWhncCPaDE_6"
      },
      "source": [
        "#### StructType, StructField\r\n",
        "\r\n",
        "Create DataFrames from rows\r\n",
        "\r\n",
        "`StructType` defines schema, `StructField` defines a column of a given `Type`"
      ]
    },
    {
      "cell_type": "code",
      "metadata": {
        "colab": {
          "base_uri": "https://localhost:8080/"
        },
        "id": "GCV8zU0QCyUs",
        "outputId": "20af58b8-7281-462a-fb11-89e1af535e89"
      },
      "source": [
        "from pyspark.sql.types import StructField, StructType, StringType, LongType\r\n",
        "\r\n",
        "AirSchema = StructType([\r\n",
        "  StructField(\"Code\",StringType(),False),\r\n",
        "  StructField(\"Date\",StringType(),True),\r\n",
        "  StructField(\"Pollutant\",StringType(),True),\r\n",
        "  StructField(\"Station\",StringType(),False, metadata={\"station\":\"name\"}),\r\n",
        "  StructField(\"Concentration\",LongType(),True)\r\n",
        "])\r\n",
        "meas1 = Row(88118,\"2015-10-30\",\"Ozone\",\"Rimini\",79)\r\n",
        "meas2 = Row(927170,\"2015-10-08\",\"Particulate matter\",\"Ravenna\",25)\r\n",
        "measurements = spark.createDataFrame([meas1, meas2], AirSchema)\r\n",
        "measurements.show()"
      ],
      "execution_count": null,
      "outputs": [
        {
          "output_type": "stream",
          "text": [
            "+------+----------+------------------+-------+-------------+\n",
            "|  Code|      Date|         Pollutant|Station|Concentration|\n",
            "+------+----------+------------------+-------+-------------+\n",
            "| 88118|2015-10-30|             Ozone| Rimini|           79|\n",
            "|927170|2015-10-08|Particulate matter|Ravenna|           25|\n",
            "+------+----------+------------------+-------+-------------+\n",
            "\n"
          ],
          "name": "stdout"
        }
      ]
    },
    {
      "cell_type": "markdown",
      "metadata": {
        "id": "RVTVnRSkD2Ou"
      },
      "source": [
        "#### Select\r\n",
        "\r\n",
        "The `select` method of DataFrame projects the frame onto\r\n",
        "specified column names, possibly renamed using an\r\n",
        "expression or the `alias` method"
      ]
    },
    {
      "cell_type": "code",
      "metadata": {
        "colab": {
          "base_uri": "https://localhost:8080/"
        },
        "id": "ZH0kkShKEO1O",
        "outputId": "026431f3-6dfb-4e99-9715-671f8fc9188c"
      },
      "source": [
        "df.select(\"Date\", \"Station\", \"Pollutant\").show(2)"
      ],
      "execution_count": null,
      "outputs": [
        {
          "output_type": "stream",
          "text": [
            "+----------+-------+------------------+\n",
            "|      Date|Station|         Pollutant|\n",
            "+----------+-------+------------------+\n",
            "|2015-10-30| Rimini|             Ozone|\n",
            "|2015-10-08|Ravenna|Particulate matter|\n",
            "+----------+-------+------------------+\n",
            "only showing top 2 rows\n",
            "\n"
          ],
          "name": "stdout"
        }
      ]
    },
    {
      "cell_type": "code",
      "metadata": {
        "colab": {
          "base_uri": "https://localhost:8080/"
        },
        "id": "eFqH31bFEQ9K",
        "outputId": "a372d4dc-501e-448a-f888-51b32fbb79c4"
      },
      "source": [
        "df.select(expr(\"Date\").alias(\"measure_date\")).show(2)\r\n",
        "df.select(expr(\"Date as measure_date\")).show(2)"
      ],
      "execution_count": null,
      "outputs": [
        {
          "output_type": "stream",
          "text": [
            "+------------+\n",
            "|measure_date|\n",
            "+------------+\n",
            "|  2015-10-30|\n",
            "|  2015-10-08|\n",
            "+------------+\n",
            "only showing top 2 rows\n",
            "\n",
            "+------------+\n",
            "|measure_date|\n",
            "+------------+\n",
            "|  2015-10-30|\n",
            "|  2015-10-08|\n",
            "+------------+\n",
            "only showing top 2 rows\n",
            "\n"
          ],
          "name": "stdout"
        }
      ]
    },
    {
      "cell_type": "code",
      "metadata": {
        "colab": {
          "base_uri": "https://localhost:8080/"
        },
        "id": "wO1_0FthQPsz",
        "outputId": "f8005724-90f3-4aaf-9a69-db0561292dd8"
      },
      "source": [
        "df.select(\"*\", expr(\"Concentration < 50 and Concentration > 10\")).show(3)"
      ],
      "execution_count": null,
      "outputs": [
        {
          "output_type": "stream",
          "text": [
            "+------+-------------+----------+------------------+-------+-----------------------------------------------+\n",
            "|  Code|Concentration|      Date|         Pollutant|Station|((Concentration < 50) AND (Concentration > 10))|\n",
            "+------+-------------+----------+------------------+-------+-----------------------------------------------+\n",
            "| 88118|           79|2015-10-30|             Ozone| Rimini|                                          false|\n",
            "|927170|           25|2015-10-08|Particulate matter|Ravenna|                                           true|\n",
            "|190115|           59|2015-02-04|             Ozone| Rimini|                                          false|\n",
            "+------+-------------+----------+------------------+-------+-----------------------------------------------+\n",
            "only showing top 3 rows\n",
            "\n"
          ],
          "name": "stdout"
        }
      ]
    },
    {
      "cell_type": "markdown",
      "metadata": {
        "id": "jENG6TCrFl_Q"
      },
      "source": [
        "#### SelectExpr\r\n",
        "\r\n",
        "The `selectExpr` method allows for adding computed columns to\r\n",
        "the output data frame using expressions"
      ]
    },
    {
      "cell_type": "code",
      "metadata": {
        "colab": {
          "base_uri": "https://localhost:8080/"
        },
        "id": "-xSFI_TLEj9e",
        "outputId": "436f7b36-8336-44e7-d75d-dc6d2934ed6b"
      },
      "source": [
        "df.selectExpr(\"*\", \"Concentration < 50 and Concentration > 10 as Interv\").show(3)"
      ],
      "execution_count": null,
      "outputs": [
        {
          "output_type": "stream",
          "text": [
            "+------+-------------+----------+------------------+-------+------+\n",
            "|  Code|Concentration|      Date|         Pollutant|Station|Interv|\n",
            "+------+-------------+----------+------------------+-------+------+\n",
            "| 88118|           79|2015-10-30|             Ozone| Rimini| false|\n",
            "|927170|           25|2015-10-08|Particulate matter|Ravenna|  true|\n",
            "|190115|           59|2015-02-04|             Ozone| Rimini| false|\n",
            "+------+-------------+----------+------------------+-------+------+\n",
            "only showing top 3 rows\n",
            "\n"
          ],
          "name": "stdout"
        }
      ]
    },
    {
      "cell_type": "markdown",
      "metadata": {
        "id": "_ZI2XNZFRoj9"
      },
      "source": [
        "Aggregations in SQL expressions"
      ]
    },
    {
      "cell_type": "code",
      "metadata": {
        "id": "DrIf5Er_RqDj",
        "colab": {
          "base_uri": "https://localhost:8080/"
        },
        "outputId": "cbcdcfa4-b18e-4ee9-9ee6-37ab355f1497"
      },
      "source": [
        "df.selectExpr(\"avg(Concentration)\",\r\n",
        "              \"max(Concentration)\",\r\n",
        "              \"count(distinct(Code))\").show()"
      ],
      "execution_count": null,
      "outputs": [
        {
          "output_type": "stream",
          "text": [
            "+------------------+------------------+--------------------+\n",
            "|avg(Concentration)|max(Concentration)|count(DISTINCT Code)|\n",
            "+------------------+------------------+--------------------+\n",
            "|             48.34|               100|                 100|\n",
            "+------------------+------------------+--------------------+\n",
            "\n"
          ],
          "name": "stdout"
        }
      ]
    },
    {
      "cell_type": "markdown",
      "metadata": {
        "id": "0gC_JJBsJpXb"
      },
      "source": [
        "Constant columns can be added to the select expressions\r\n",
        "using literals"
      ]
    },
    {
      "cell_type": "code",
      "metadata": {
        "colab": {
          "base_uri": "https://localhost:8080/"
        },
        "id": "ODX_UlyWFyGW",
        "outputId": "f1cea303-6f97-4dd2-f477-3092785f255d"
      },
      "source": [
        "from pyspark.sql.functions import lit\r\n",
        "\r\n",
        "df.select(\"*\", lit(\"valid\").alias(\"Validity\")).show(3)"
      ],
      "execution_count": null,
      "outputs": [
        {
          "output_type": "stream",
          "text": [
            "+------+-------------+----------+------------------+-------+--------+\n",
            "|  Code|Concentration|      Date|         Pollutant|Station|Validity|\n",
            "+------+-------------+----------+------------------+-------+--------+\n",
            "| 88118|           79|2015-10-30|             Ozone| Rimini|   valid|\n",
            "|927170|           25|2015-10-08|Particulate matter|Ravenna|   valid|\n",
            "|190115|           59|2015-02-04|             Ozone| Rimini|   valid|\n",
            "+------+-------------+----------+------------------+-------+--------+\n",
            "only showing top 3 rows\n",
            "\n"
          ],
          "name": "stdout"
        }
      ]
    },
    {
      "cell_type": "markdown",
      "metadata": {
        "id": "AqGSi3FSKN06"
      },
      "source": [
        "#### WithColumn\r\n",
        "\r\n",
        "The `withColumn` method of DataFrame adds a column or\r\n",
        "replaces it using a column expression as source for its values (with a literal it adds a constant column)"
      ]
    },
    {
      "cell_type": "code",
      "metadata": {
        "colab": {
          "base_uri": "https://localhost:8080/"
        },
        "id": "7zIBitd3KTh2",
        "outputId": "4ebc74c3-d674-48cb-cac8-2aea2759643d"
      },
      "source": [
        "df.withColumn('Square conc', df.Concentration**2).show(2)"
      ],
      "execution_count": null,
      "outputs": [
        {
          "output_type": "stream",
          "text": [
            "+------+-------------+----------+------------------+-------+-----------+\n",
            "|  Code|Concentration|      Date|         Pollutant|Station|Square conc|\n",
            "+------+-------------+----------+------------------+-------+-----------+\n",
            "| 88118|           79|2015-10-30|             Ozone| Rimini|     6241.0|\n",
            "|927170|           25|2015-10-08|Particulate matter|Ravenna|      625.0|\n",
            "+------+-------------+----------+------------------+-------+-----------+\n",
            "only showing top 2 rows\n",
            "\n"
          ],
          "name": "stdout"
        }
      ]
    },
    {
      "cell_type": "markdown",
      "metadata": {
        "id": "iMibWqQZK0sH"
      },
      "source": [
        "#### Drop\r\n",
        "\r\n",
        "Remove a column with `drop` method"
      ]
    },
    {
      "cell_type": "code",
      "metadata": {
        "colab": {
          "base_uri": "https://localhost:8080/"
        },
        "id": "xffVLIxHKszi",
        "outputId": "1467ab27-118f-4e52-e1dd-b193ae576866"
      },
      "source": [
        "df.drop(\"Concentration\").show(2)"
      ],
      "execution_count": null,
      "outputs": [
        {
          "output_type": "stream",
          "text": [
            "+------+----------+------------------+-------+\n",
            "|  Code|      Date|         Pollutant|Station|\n",
            "+------+----------+------------------+-------+\n",
            "| 88118|2015-10-30|             Ozone| Rimini|\n",
            "|927170|2015-10-08|Particulate matter|Ravenna|\n",
            "+------+----------+------------------+-------+\n",
            "only showing top 2 rows\n",
            "\n"
          ],
          "name": "stdout"
        }
      ]
    },
    {
      "cell_type": "markdown",
      "metadata": {
        "id": "5bRmyMmALjHX"
      },
      "source": [
        "#### Where, Filter\r\n",
        "\r\n",
        "Filtering: `where` or `filter` with a SQL string or a column boolean expression"
      ]
    },
    {
      "cell_type": "code",
      "metadata": {
        "colab": {
          "base_uri": "https://localhost:8080/"
        },
        "id": "yf7XFLK_LwsE",
        "outputId": "d3583647-ff1b-4c0c-8fb3-9fdd28babf16"
      },
      "source": [
        "df.where(col(\"Concentration\") > 90)\\\r\n",
        "  .where(col(\"Date\") >= '2015-10-16').show()\r\n",
        "\r\n",
        "df.where((col(\"Concentration\") > 90) & (col(\"Date\") >= '2015-10-16')).show()\r\n",
        "df.filter(\"Concentration > 90 and Date >= '2015-10-16'\").show()"
      ],
      "execution_count": null,
      "outputs": [
        {
          "output_type": "stream",
          "text": [
            "+------+-------------+----------+------------------+-------+\n",
            "|  Code|Concentration|      Date|         Pollutant|Station|\n",
            "+------+-------------+----------+------------------+-------+\n",
            "|541554|           95|2015-10-16|  Nitrogen dioxide|Ravenna|\n",
            "|720857|           92|2015-11-25|Particulate matter| Modena|\n",
            "+------+-------------+----------+------------------+-------+\n",
            "\n",
            "+------+-------------+----------+------------------+-------+\n",
            "|  Code|Concentration|      Date|         Pollutant|Station|\n",
            "+------+-------------+----------+------------------+-------+\n",
            "|541554|           95|2015-10-16|  Nitrogen dioxide|Ravenna|\n",
            "|720857|           92|2015-11-25|Particulate matter| Modena|\n",
            "+------+-------------+----------+------------------+-------+\n",
            "\n",
            "+------+-------------+----------+------------------+-------+\n",
            "|  Code|Concentration|      Date|         Pollutant|Station|\n",
            "+------+-------------+----------+------------------+-------+\n",
            "|541554|           95|2015-10-16|  Nitrogen dioxide|Ravenna|\n",
            "|720857|           92|2015-11-25|Particulate matter| Modena|\n",
            "+------+-------------+----------+------------------+-------+\n",
            "\n"
          ],
          "name": "stdout"
        }
      ]
    },
    {
      "cell_type": "markdown",
      "metadata": {
        "id": "5IZWZERHL9O0"
      },
      "source": [
        "Boolean expressions and boolean columns (e.g. \"monitor\")\r\n"
      ]
    },
    {
      "cell_type": "code",
      "metadata": {
        "colab": {
          "base_uri": "https://localhost:8080/"
        },
        "id": "wPbylqkUJKhD",
        "outputId": "030515a5-3525-4d55-f5be-533621195dac"
      },
      "source": [
        "from pyspark.sql.functions import instr\r\n",
        "\r\n",
        "df.where(\"Station = 'Bologna'\").show(1)\r\n",
        "df.where(col(\"Station\") == \"Bologna\").show(1)\r\n",
        "\r\n",
        "df.where(\"Station <> 'Bologna'\").show(1) # <> is inequality SQL operator\r\n",
        "df.where(col(\"Station\") != \"Bologna\").show(1)\r\n",
        "\r\n",
        "conc_filter = col(\"Concentration\") > 50\r\n",
        "poll_filter = instr(df.Pollutant, \"Particulate\") >= 1\r\n",
        "df.where(df.Station.isin(\"Bologna\", \"Rimini\") &\r\n",
        "         (conc_filter | poll_filter)).show(3)\r\n",
        "\r\n",
        "loc_filter = col(\"Station\").isin(\"Bologna\", \"Rimini\")\r\n",
        "df.withColumn(\"monitor\", \r\n",
        "              loc_filter & (conc_filter | poll_filter))\\\r\n",
        "              .where(\"monitor\").show(3)"
      ],
      "execution_count": null,
      "outputs": [
        {
          "output_type": "stream",
          "text": [
            "+------+-------------+----------+---------+-------+\n",
            "|  Code|Concentration|      Date|Pollutant|Station|\n",
            "+------+-------------+----------+---------+-------+\n",
            "|969127|           20|2015-10-19|  Benzene|Bologna|\n",
            "+------+-------------+----------+---------+-------+\n",
            "only showing top 1 row\n",
            "\n",
            "+------+-------------+----------+---------+-------+\n",
            "|  Code|Concentration|      Date|Pollutant|Station|\n",
            "+------+-------------+----------+---------+-------+\n",
            "|969127|           20|2015-10-19|  Benzene|Bologna|\n",
            "+------+-------------+----------+---------+-------+\n",
            "only showing top 1 row\n",
            "\n",
            "+-----+-------------+----------+---------+-------+\n",
            "| Code|Concentration|      Date|Pollutant|Station|\n",
            "+-----+-------------+----------+---------+-------+\n",
            "|88118|           79|2015-10-30|    Ozone| Rimini|\n",
            "+-----+-------------+----------+---------+-------+\n",
            "only showing top 1 row\n",
            "\n",
            "+-----+-------------+----------+---------+-------+\n",
            "| Code|Concentration|      Date|Pollutant|Station|\n",
            "+-----+-------------+----------+---------+-------+\n",
            "|88118|           79|2015-10-30|    Ozone| Rimini|\n",
            "+-----+-------------+----------+---------+-------+\n",
            "only showing top 1 row\n",
            "\n",
            "+------+-------------+----------+------------------+-------+\n",
            "|  Code|Concentration|      Date|         Pollutant|Station|\n",
            "+------+-------------+----------+------------------+-------+\n",
            "| 88118|           79|2015-10-30|             Ozone| Rimini|\n",
            "|190115|           59|2015-02-04|             Ozone| Rimini|\n",
            "|102991|           41|2015-04-02|Particulate matter| Rimini|\n",
            "+------+-------------+----------+------------------+-------+\n",
            "only showing top 3 rows\n",
            "\n",
            "+------+-------------+----------+------------------+-------+-------+\n",
            "|  Code|Concentration|      Date|         Pollutant|Station|monitor|\n",
            "+------+-------------+----------+------------------+-------+-------+\n",
            "| 88118|           79|2015-10-30|             Ozone| Rimini|   true|\n",
            "|190115|           59|2015-02-04|             Ozone| Rimini|   true|\n",
            "|102991|           41|2015-04-02|Particulate matter| Rimini|   true|\n",
            "+------+-------------+----------+------------------+-------+-------+\n",
            "only showing top 3 rows\n",
            "\n"
          ],
          "name": "stdout"
        }
      ]
    },
    {
      "cell_type": "markdown",
      "metadata": {
        "id": "1fNeQgA2MKrt"
      },
      "source": [
        "#### Distinc, Sort, OrderBy, Asc, Desc, Limit\r\n",
        "\r\n",
        "Duplicate rows can be removed\r\n",
        "from the output with the\r\n",
        "`distinct` method of\r\n",
        "DataFrame.\r\n",
        "\r\n",
        "Sorting can be done with `sort` or `orderBy` methods, possibly applying `asc` or `desc` to columns.\r\n",
        "\r\n",
        "It is possible to limit the number of output rows with `limit` method"
      ]
    },
    {
      "cell_type": "code",
      "metadata": {
        "colab": {
          "base_uri": "https://localhost:8080/"
        },
        "id": "kA2ArYQQMivf",
        "outputId": "5c249020-92ca-469a-f27b-7ec1237f0238"
      },
      "source": [
        "from pyspark.sql.functions import desc, asc\r\n",
        "\r\n",
        "df.select(\"Station\", \"Pollutant\")\\\r\n",
        "  .distinct()\\\r\n",
        "  .orderBy(\"Station\", \"Pollutant\")\\\r\n",
        "  .show(2)\r\n",
        "\r\n",
        "limited = df.sort(col(\"Pollutant\"), \r\n",
        "                  col(\"Concentration\").desc()).limit(2)\r\n",
        "limited.show()"
      ],
      "execution_count": null,
      "outputs": [
        {
          "output_type": "stream",
          "text": [
            "+-------+----------------+\n",
            "|Station|       Pollutant|\n",
            "+-------+----------------+\n",
            "|Bologna|         Benzene|\n",
            "|Bologna|Nitrogen dioxide|\n",
            "+-------+----------------+\n",
            "only showing top 2 rows\n",
            "\n",
            "+------+-------------+----------+---------+-------+\n",
            "|  Code|Concentration|      Date|Pollutant|Station|\n",
            "+------+-------------+----------+---------+-------+\n",
            "|403863|          100|2015-07-25|  Benzene|Ravenna|\n",
            "|240104|           93|2015-05-16|  Benzene| Modena|\n",
            "+------+-------------+----------+---------+-------+\n",
            "\n"
          ],
          "name": "stdout"
        }
      ]
    },
    {
      "cell_type": "markdown",
      "metadata": {
        "id": "auxIFixEJNsV"
      },
      "source": [
        "#### Take, Collect\r\n",
        "\r\n",
        "Collecting rows as list"
      ]
    },
    {
      "cell_type": "code",
      "metadata": {
        "id": "UIGnv8V0JOWy",
        "colab": {
          "base_uri": "https://localhost:8080/"
        },
        "outputId": "11f844fe-4c18-48d1-827e-3ec8af222501"
      },
      "source": [
        "first3 = df.take(3)\r\n",
        "all = df.collect()\r\n",
        "print(type(first3), len(first3))\r\n",
        "print(type(all), len(all))"
      ],
      "execution_count": null,
      "outputs": [
        {
          "output_type": "stream",
          "text": [
            "<class 'list'> 3\n",
            "<class 'list'> 100\n"
          ],
          "name": "stdout"
        }
      ]
    },
    {
      "cell_type": "markdown",
      "metadata": {
        "id": "w44ZrEx8SE1v"
      },
      "source": [
        "#### Join\r\n",
        "\r\n",
        "An inner join returns only rows that satifisfy the join condition (expressed with comparison operators)"
      ]
    },
    {
      "cell_type": "code",
      "metadata": {
        "colab": {
          "base_uri": "https://localhost:8080/"
        },
        "id": "tib51ixmVC_h",
        "outputId": "b35394da-b92e-425e-95ef-87df427697b5"
      },
      "source": [
        "cities_source = data_path + \"cities.csv\"\r\n",
        "cities = spark.read.csv(cities_source, header=True, inferSchema=True)\r\n",
        "cities.show()\r\n",
        "\r\n",
        "joinExpr = df[\"Station\"] == cities[\"City\"]\r\n",
        "inner_join = df.join(cities, joinExpr)\r\n",
        "inner_join.show(4)\r\n",
        "print(\"Rows number:\", len(inner_join.collect()))"
      ],
      "execution_count": null,
      "outputs": [
        {
          "output_type": "stream",
          "text": [
            "+-------+------+----------+\n",
            "|   City|  Area|Population|\n",
            "+-------+------+----------+\n",
            "| Rimini|135.71|    151200|\n",
            "| Cesena|249.47|     97190|\n",
            "|Bologna|140.86|    391525|\n",
            "|Ravenna|241.75|    158058|\n",
            "| Modena|183.19|    186741|\n",
            "|Ferrara|405.16|    132195|\n",
            "+-------+------+----------+\n",
            "\n",
            "+------+-------------+----------+------------------+-------+-------+------+----------+\n",
            "|  Code|Concentration|      Date|         Pollutant|Station|   City|  Area|Population|\n",
            "+------+-------------+----------+------------------+-------+-------+------+----------+\n",
            "| 88118|           79|2015-10-30|             Ozone| Rimini| Rimini|135.71|    151200|\n",
            "|927170|           25|2015-10-08|Particulate matter|Ravenna|Ravenna|241.75|    158058|\n",
            "|190115|           59|2015-02-04|             Ozone| Rimini| Rimini|135.71|    151200|\n",
            "|697379|            0|2015-12-13|             Ozone| Cesena| Cesena|249.47|     97190|\n",
            "+------+-------------+----------+------------------+-------+-------+------+----------+\n",
            "only showing top 4 rows\n",
            "\n",
            "Rows number: 100\n"
          ],
          "name": "stdout"
        }
      ]
    },
    {
      "cell_type": "markdown",
      "metadata": {
        "id": "QrzrqAbwbUEf"
      },
      "source": [
        "An outer join contains also those rows that did not match the comparison. They are put in combination with null values. There can be done left and right outer join as well"
      ]
    },
    {
      "cell_type": "code",
      "metadata": {
        "colab": {
          "base_uri": "https://localhost:8080/"
        },
        "id": "5zIN8ovVbUpO",
        "outputId": "78c3218f-0fa5-4893-c311-da0f8251314b"
      },
      "source": [
        "outer_join = df.join(cities, joinExpr, \"outer\")\r\n",
        "outer_join.show(4)\r\n",
        "print(\"Rows number:\", len(outer_join.collect())) # 101 because of 'Ferrara' city"
      ],
      "execution_count": null,
      "outputs": [
        {
          "output_type": "stream",
          "text": [
            "+------+-------------+----------+------------------+-------+------+------+----------+\n",
            "|  Code|Concentration|      Date|         Pollutant|Station|  City|  Area|Population|\n",
            "+------+-------------+----------+------------------+-------+------+------+----------+\n",
            "|753053|           47|2015-02-08|             Ozone| Modena|Modena|183.19|    186741|\n",
            "|233603|           49|2015-07-16|  Nitrogen dioxide| Modena|Modena|183.19|    186741|\n",
            "|928968|           10|2015-04-17|Particulate matter| Modena|Modena|183.19|    186741|\n",
            "|100364|           81|2015-03-20|           Benzene| Modena|Modena|183.19|    186741|\n",
            "+------+-------------+----------+------------------+-------+------+------+----------+\n",
            "only showing top 4 rows\n",
            "\n",
            "Rows number: 101\n"
          ],
          "name": "stdout"
        }
      ]
    },
    {
      "cell_type": "code",
      "metadata": {
        "colab": {
          "base_uri": "https://localhost:8080/"
        },
        "id": "Pxg-4O7ubkUG",
        "outputId": "0f9b4df0-cf85-4f4e-a55c-6b30b0198001"
      },
      "source": [
        "# Condition: df[\"Station\"] == cities[\"City\"]\r\n",
        "outer_join = df.join(cities, joinExpr, \"right_outer\")\r\n",
        "print(\"Rows number right outer join:\", len(outer_join.collect())) # 101 because of 'Ferrara' city\r\n",
        "outer_join = df.join(cities, joinExpr, \"left_outer\")\r\n",
        "print(\"Rows number left outer join:\", len(outer_join.collect())) # 100, like inner join"
      ],
      "execution_count": null,
      "outputs": [
        {
          "output_type": "stream",
          "text": [
            "Rows number right outer join: 101\n",
            "Rows number left outer join: 100\n"
          ],
          "name": "stdout"
        }
      ]
    },
    {
      "cell_type": "markdown",
      "metadata": {
        "id": "-gGJXrt-fNYz"
      },
      "source": [
        "A left semi join contains the rows of T1 which satisfy the\r\n",
        "join expression.\r\n",
        "\r\n",
        "A left anti join contains the rows of T1 whith do not satisfy\r\n",
        "the join expression.\r\n",
        "\r\n",
        "A cartesian or cross product is equivalent to a join with a\r\n",
        "True join expression"
      ]
    },
    {
      "cell_type": "code",
      "metadata": {
        "colab": {
          "base_uri": "https://localhost:8080/"
        },
        "id": "0pP8F-XIfNwl",
        "outputId": "cde5ebf2-d463-44d7-dc70-ecc71a72dc67"
      },
      "source": [
        "cities.join(df, joinExpr, \"left_semi\").show() # No 'Ferrara'\r\n",
        "cities.join(df, joinExpr, \"left_anti\").show() # Only 'Ferrara'\r\n",
        "#cross_join = cities.join(df, joinExpr, \"cross\")\r\n",
        "cross_join = cities.crossJoin(df)\r\n",
        "print(\"Rows number cross join:\", len(cross_join.collect()))"
      ],
      "execution_count": null,
      "outputs": [
        {
          "output_type": "stream",
          "text": [
            "+-------+------+----------+\n",
            "|   City|  Area|Population|\n",
            "+-------+------+----------+\n",
            "| Rimini|135.71|    151200|\n",
            "| Cesena|249.47|     97190|\n",
            "|Bologna|140.86|    391525|\n",
            "|Ravenna|241.75|    158058|\n",
            "| Modena|183.19|    186741|\n",
            "+-------+------+----------+\n",
            "\n",
            "+-------+------+----------+\n",
            "|   City|  Area|Population|\n",
            "+-------+------+----------+\n",
            "|Ferrara|405.16|    132195|\n",
            "+-------+------+----------+\n",
            "\n",
            "Rows number cross join: 600\n"
          ],
          "name": "stdout"
        }
      ]
    },
    {
      "cell_type": "markdown",
      "metadata": {
        "id": "dEf-J24t6sX6"
      },
      "source": [
        "#### Aggregations"
      ]
    },
    {
      "cell_type": "code",
      "metadata": {
        "colab": {
          "base_uri": "https://localhost:8080/"
        },
        "id": "vLr3feBR3-6A",
        "outputId": "7abfa4e8-d1c3-436f-b465-80fca0a82419"
      },
      "source": [
        "from pyspark.sql.functions import count, countDistinct, first, last, min, max, sum, sumDistinct, avg\r\n",
        "\r\n",
        "cities.select(count(\"City\"),\r\n",
        "              countDistinct(\"City\"),\r\n",
        "              first(\"City\"),\r\n",
        "              last(\"City\"),\r\n",
        "              min(\"Population\"),\r\n",
        "              max(\"Population\"),\r\n",
        "              avg(\"Population\"),\r\n",
        "              sum(\"Area\"),\r\n",
        "              sumDistinct(\"Area\")).show()"
      ],
      "execution_count": null,
      "outputs": [
        {
          "output_type": "stream",
          "text": [
            "+-----------+--------------------+-----------+----------+---------------+---------------+---------------+---------+------------------+\n",
            "|count(City)|count(DISTINCT City)|first(City)|last(City)|min(Population)|max(Population)|avg(Population)|sum(Area)|sum(DISTINCT Area)|\n",
            "+-----------+--------------------+-----------+----------+---------------+---------------+---------------+---------+------------------+\n",
            "|          6|                   6|     Rimini|   Ferrara|          97190|         391525|       186151.5|  1356.14|           1356.14|\n",
            "+-----------+--------------------+-----------+----------+---------------+---------------+---------------+---------+------------------+\n",
            "\n"
          ],
          "name": "stdout"
        }
      ]
    },
    {
      "cell_type": "markdown",
      "metadata": {
        "id": "f1Ti8WnF8mOI"
      },
      "source": [
        "#### Variance, covariance, correlation\r\n",
        "\r\n",
        "Both sample and population"
      ]
    },
    {
      "cell_type": "code",
      "metadata": {
        "colab": {
          "base_uri": "https://localhost:8080/"
        },
        "id": "_Idz3STt8q1t",
        "outputId": "af524a1a-49d7-419e-df5a-dd8d1aa0632d"
      },
      "source": [
        "from pyspark.sql.functions import var_pop, var_samp, corr, covar_pop, covar_samp\r\n",
        "\r\n",
        "df.select(var_samp(\"Concentration\"), var_pop(\"Concentration\")).show()\r\n",
        "\r\n",
        "conc_pop = df.join(cities, df[\"Station\"] == cities[\"City\"])\r\n",
        "conc_dens = conc_pop.withColumn(\"Density\",\r\n",
        "                                conc_pop[\"Population\"]/conc_pop[\"Area\"])\r\n",
        "conc_dens.select(corr(\"Density\", \"Concentration\"),\r\n",
        "                 covar_samp(\"Density\", \"Concentration\"),\r\n",
        "                 covar_pop(\"Density\", \"Concentration\")).show()"
      ],
      "execution_count": null,
      "outputs": [
        {
          "output_type": "stream",
          "text": [
            "+-----------------------+----------------------+\n",
            "|var_samp(Concentration)|var_pop(Concentration)|\n",
            "+-----------------------+----------------------+\n",
            "|      903.3175757575759|     894.2844000000001|\n",
            "+-----------------------+----------------------+\n",
            "\n",
            "+----------------------------+----------------------------------+---------------------------------+\n",
            "|corr(Density, Concentration)|covar_samp(Density, Concentration)|covar_pop(Density, Concentration)|\n",
            "+----------------------------+----------------------------------+---------------------------------+\n",
            "|         0.05278344955861994|                1413.1404856685933|               1399.0090808119076|\n",
            "+----------------------------+----------------------------------+---------------------------------+\n",
            "\n"
          ],
          "name": "stdout"
        }
      ]
    },
    {
      "cell_type": "markdown",
      "metadata": {
        "id": "Z9nv_x0H9k5m"
      },
      "source": [
        "#### Agg, Collect_set, Collect_list\r\n",
        "\r\n",
        "Aggregation as collection of values of columns into sets or lists"
      ]
    },
    {
      "cell_type": "code",
      "metadata": {
        "colab": {
          "base_uri": "https://localhost:8080/"
        },
        "id": "oqtrdOLR9nu2",
        "outputId": "56af1c35-27ca-407a-b6fe-28f416b574af"
      },
      "source": [
        "from pyspark.sql.functions import collect_set, collect_list\r\n",
        "\r\n",
        "df.agg(collect_set(\"Station\"), collect_list(\"Concentration\")).show() # ok also df.select"
      ],
      "execution_count": null,
      "outputs": [
        {
          "output_type": "stream",
          "text": [
            "+--------------------+---------------------------+\n",
            "|collect_set(Station)|collect_list(Concentration)|\n",
            "+--------------------+---------------------------+\n",
            "|[Bologna, Modena,...|       [79, 25, 59, 0, 5...|\n",
            "+--------------------+---------------------------+\n",
            "\n"
          ],
          "name": "stdout"
        }
      ]
    },
    {
      "cell_type": "markdown",
      "metadata": {
        "id": "SiTBhFMY_Jgu"
      },
      "source": [
        "#### GroupBy\r\n",
        "\r\n",
        "Aggregations by groups"
      ]
    },
    {
      "cell_type": "code",
      "metadata": {
        "colab": {
          "base_uri": "https://localhost:8080/"
        },
        "id": "WxKcnKrp_LlZ",
        "outputId": "6823b4fc-88b7-418e-ded9-0e800332360a"
      },
      "source": [
        "df.groupBy(\"Station\").count().show()\r\n",
        "\r\n",
        "df.groupBy(\"Station\", \"Pollutant\").agg(avg(\"Concentration\").alias(\"Avg conc\"),\r\n",
        "                                       var_samp(\"Concentration\").alias(\"Var conc\"),\r\n",
        "                                       count(\"*\")).show(3)"
      ],
      "execution_count": null,
      "outputs": [
        {
          "output_type": "stream",
          "text": [
            "+-------+-----+\n",
            "|Station|count|\n",
            "+-------+-----+\n",
            "| Modena|   19|\n",
            "|Bologna|   24|\n",
            "| Cesena|   17|\n",
            "| Rimini|   16|\n",
            "|Ravenna|   24|\n",
            "+-------+-----+\n",
            "\n",
            "+-------+------------------+-----------------+-----------------+--------+\n",
            "|Station|         Pollutant|         Avg conc|         Var conc|count(1)|\n",
            "+-------+------------------+-----------------+-----------------+--------+\n",
            "|Ravenna|  Nitrogen dioxide|             59.5|           1047.0|       4|\n",
            "|Bologna|Particulate matter|            59.75|          1022.25|       4|\n",
            "| Rimini|             Ozone|60.42857142857143|514.6190476190476|       7|\n",
            "+-------+------------------+-----------------+-----------------+--------+\n",
            "only showing top 3 rows\n",
            "\n"
          ],
          "name": "stdout"
        }
      ]
    },
    {
      "cell_type": "markdown",
      "metadata": {
        "id": "Skmc76r__XA5"
      },
      "source": [
        "#### Window: PartitionBy, OrderBy, RowsBetween, RangeBetween\r\n",
        "\r\n",
        "Functions are applicable to sliding windows, defined by window\r\n",
        "specifications, which set grouping (`partitionBy`), ordering (`orderBy`) and framing (`rowsBetween`, `rangeBetween`).\r\n",
        "\r\n",
        "In the example: find the average concentration by station in Bologna or Rimini\r\n",
        "in sliding windows of size 5 (using the previous 4 related rows)"
      ]
    },
    {
      "cell_type": "code",
      "metadata": {
        "colab": {
          "base_uri": "https://localhost:8080/"
        },
        "id": "dO9lnUdCDCZh",
        "outputId": "ef597349-0148-40e1-8f96-22c84e68a84e"
      },
      "source": [
        "from pyspark.sql.window import Window\r\n",
        "\r\n",
        "dfrb = df.where(\"Station = 'Rimini' or Station = 'Bologna'\")\r\n",
        "win = Window.partitionBy(\"Station\").orderBy(asc(\"Date\")).rowsBetween(-4, 0)\r\n",
        "dfrb.select(col(\"Station\"), col(\"Date\"),\r\n",
        "            avg(col(\"Concentration\")).over(win).alias(\"Avg conc\")).show(3)"
      ],
      "execution_count": null,
      "outputs": [
        {
          "output_type": "stream",
          "text": [
            "+-------+----------+--------+\n",
            "|Station|      Date|Avg conc|\n",
            "+-------+----------+--------+\n",
            "|Bologna|2015-01-29|    54.0|\n",
            "|Bologna|2015-03-10|    75.5|\n",
            "|Bologna|2015-04-20|    70.0|\n",
            "+-------+----------+--------+\n",
            "only showing top 3 rows\n",
            "\n"
          ],
          "name": "stdout"
        }
      ]
    },
    {
      "cell_type": "markdown",
      "metadata": {
        "id": "g1p006wVH8Hn"
      },
      "source": [
        "#### Rollup\r\n",
        "\r\n",
        "The rollup operation computes aggregates in groups defined by\r\n",
        "a set of columns, and a chain of its subsets (for example,\r\n",
        "{Pollutant, Station}, {Pollutant}, { } (empty set))"
      ]
    },
    {
      "cell_type": "code",
      "metadata": {
        "colab": {
          "base_uri": "https://localhost:8080/"
        },
        "id": "29t2PllCFuFc",
        "outputId": "0987108c-ad02-4325-b905-ffd9048cd2ae"
      },
      "source": [
        "df.rollup(\"Pollutant\", \"Station\")\\\r\n",
        "  .agg(max(\"Concentration\"))\\\r\n",
        "  .orderBy(\"Station\", \"Pollutant\").show(10)"
      ],
      "execution_count": null,
      "outputs": [
        {
          "output_type": "stream",
          "text": [
            "+------------------+-------+------------------+\n",
            "|         Pollutant|Station|max(Concentration)|\n",
            "+------------------+-------+------------------+\n",
            "|              null|   null|               100|\n",
            "|           Benzene|   null|               100|\n",
            "|  Nitrogen dioxide|   null|                97|\n",
            "|             Ozone|   null|                98|\n",
            "|Particulate matter|   null|                97|\n",
            "|           Benzene|Bologna|                73|\n",
            "|  Nitrogen dioxide|Bologna|                70|\n",
            "|             Ozone|Bologna|                98|\n",
            "|Particulate matter|Bologna|                97|\n",
            "|           Benzene| Cesena|                72|\n",
            "+------------------+-------+------------------+\n",
            "only showing top 10 rows\n",
            "\n"
          ],
          "name": "stdout"
        }
      ]
    },
    {
      "cell_type": "markdown",
      "metadata": {
        "id": "EhdWntqfJAe_"
      },
      "source": [
        "#### Cube\r\n",
        "\r\n",
        "The cube operation computes aggregates in all groups defined\r\n",
        "by all subsets of a set of columns"
      ]
    },
    {
      "cell_type": "code",
      "metadata": {
        "colab": {
          "base_uri": "https://localhost:8080/"
        },
        "id": "Tj8sbyhOJDi7",
        "outputId": "3710e0d4-9f6e-4b2f-9c04-c2bca78ee836"
      },
      "source": [
        "df.cube(\"Pollutant\", \"Station\")\\\r\n",
        "  .agg(max(\"Concentration\"))\\\r\n",
        "  .orderBy(\"Station\", \"Pollutant\").show(11)"
      ],
      "execution_count": null,
      "outputs": [
        {
          "output_type": "stream",
          "text": [
            "+------------------+-------+------------------+\n",
            "|         Pollutant|Station|max(Concentration)|\n",
            "+------------------+-------+------------------+\n",
            "|              null|   null|               100|\n",
            "|           Benzene|   null|               100|\n",
            "|  Nitrogen dioxide|   null|                97|\n",
            "|             Ozone|   null|                98|\n",
            "|Particulate matter|   null|                97|\n",
            "|              null|Bologna|                98|\n",
            "|           Benzene|Bologna|                73|\n",
            "|  Nitrogen dioxide|Bologna|                70|\n",
            "|             Ozone|Bologna|                98|\n",
            "|Particulate matter|Bologna|                97|\n",
            "|              null| Cesena|                83|\n",
            "+------------------+-------+------------------+\n",
            "only showing top 11 rows\n",
            "\n"
          ],
          "name": "stdout"
        }
      ]
    },
    {
      "cell_type": "markdown",
      "metadata": {
        "id": "1SvONTR6PIpi"
      },
      "source": [
        "#### String case"
      ]
    },
    {
      "cell_type": "code",
      "metadata": {
        "colab": {
          "base_uri": "https://localhost:8080/"
        },
        "id": "neuqP5JtMKWC",
        "outputId": "6c3a7e48-35b8-4b2f-c733-029b4aba2686"
      },
      "source": [
        "from pyspark.sql.functions import initcap, lower, upper\r\n",
        "\r\n",
        "df.select(initcap(col(\"Pollutant\")),\r\n",
        "          lower(col(\"Pollutant\")),\r\n",
        "          upper(col(\"Pollutant\"))).show(1)"
      ],
      "execution_count": null,
      "outputs": [
        {
          "output_type": "stream",
          "text": [
            "+------------------+----------------+----------------+\n",
            "|initcap(Pollutant)|lower(Pollutant)|upper(Pollutant)|\n",
            "+------------------+----------------+----------------+\n",
            "|             Ozone|           ozone|           OZONE|\n",
            "+------------------+----------------+----------------+\n",
            "only showing top 1 row\n",
            "\n"
          ],
          "name": "stdout"
        }
      ]
    },
    {
      "cell_type": "markdown",
      "metadata": {
        "id": "kR09xtANPrJi"
      },
      "source": [
        "#### Space trimming"
      ]
    },
    {
      "cell_type": "code",
      "metadata": {
        "colab": {
          "base_uri": "https://localhost:8080/"
        },
        "id": "GeLBPv-kPs2N",
        "outputId": "d5a089e7-e982-44c9-e758-00fbeeb52064"
      },
      "source": [
        "from pyspark.sql.functions import ltrim, rtrim, trim\r\n",
        "df.select(ltrim(lit(\" Ozone \")).alias(\"lt\")).show(1)\r\n",
        "df.select(rtrim(lit(\" Ozone \")).alias(\"rt\")).show(1)\r\n",
        "df.select(trim(lit(\" Ozone \")).alias(\"t\")).show(1)"
      ],
      "execution_count": null,
      "outputs": [
        {
          "output_type": "stream",
          "text": [
            "+------+\n",
            "|    lt|\n",
            "+------+\n",
            "|Ozone |\n",
            "+------+\n",
            "only showing top 1 row\n",
            "\n",
            "+------+\n",
            "|    rt|\n",
            "+------+\n",
            "| Ozone|\n",
            "+------+\n",
            "only showing top 1 row\n",
            "\n",
            "+-----+\n",
            "|    t|\n",
            "+-----+\n",
            "|Ozone|\n",
            "+-----+\n",
            "only showing top 1 row\n",
            "\n"
          ],
          "name": "stdout"
        }
      ]
    },
    {
      "cell_type": "markdown",
      "metadata": {
        "id": "DEtgo9GNP-Wo"
      },
      "source": [
        "#### Character padding"
      ]
    },
    {
      "cell_type": "code",
      "metadata": {
        "colab": {
          "base_uri": "https://localhost:8080/"
        },
        "id": "ljaKR_aDQDKe",
        "outputId": "1491aca1-9725-4deb-edf8-87b724b4f7dd"
      },
      "source": [
        "from pyspark.sql.functions import lpad, rpad\r\n",
        "df.select(lpad(lit(\"Ozone\"), 10, \"-=\").alias(\"lp\")).show(1)\r\n",
        "df.select(rpad(lit(\"Ozone\"), 10, \"-=\").alias(\"rp\")).show(1)"
      ],
      "execution_count": null,
      "outputs": [
        {
          "output_type": "stream",
          "text": [
            "+----------+\n",
            "|        lp|\n",
            "+----------+\n",
            "|-=-=-Ozone|\n",
            "+----------+\n",
            "only showing top 1 row\n",
            "\n",
            "+----------+\n",
            "|        rp|\n",
            "+----------+\n",
            "|Ozone-=-=-|\n",
            "+----------+\n",
            "only showing top 1 row\n",
            "\n"
          ],
          "name": "stdout"
        }
      ]
    },
    {
      "cell_type": "markdown",
      "metadata": {
        "id": "R0oglGZeW_0i"
      },
      "source": [
        "#### Regular expressions\r\n",
        "\r\n",
        "`regexp_extract` finds and extracts into a new column all\r\n",
        "unique occurrences of virus"
      ]
    },
    {
      "cell_type": "code",
      "metadata": {
        "colab": {
          "base_uri": "https://localhost:8080/"
        },
        "id": "ZHsUZVFjXB1q",
        "outputId": "5752a690-419f-4878-a156-4727cf7805a2"
      },
      "source": [
        "from pyspark.sql.functions import regexp_extract, length\r\n",
        "\r\n",
        "source_tweets = data_path + \"reuters_health.txt\"\r\n",
        "TweetSchema = StructType([\r\n",
        "  StructField(\"Tweet Text\", StringType(), True)\r\n",
        "])\r\n",
        "h_news = spark.read.format(\"text\").schema(TweetSchema).load(source_tweets)\r\n",
        "re = \"H[1-9]N[1-9]| +flu +|^flu +| +flu$\"\r\n",
        "h_news.select(regexp_extract(col(\"Tweet Text\"), re, 0)\\\r\n",
        "  .alias(\"Flu text\")).where(length(\"Flu text\") > 0)\\\r\n",
        "  .distinct().show()"
      ],
      "execution_count": null,
      "outputs": [
        {
          "output_type": "stream",
          "text": [
            "+--------+\n",
            "|Flu text|\n",
            "+--------+\n",
            "|    H7N3|\n",
            "|    flu |\n",
            "|    H7N9|\n",
            "|    H1N1|\n",
            "|    H5N1|\n",
            "|    H5N8|\n",
            "|    H5N6|\n",
            "+--------+\n",
            "\n"
          ],
          "name": "stdout"
        }
      ]
    },
    {
      "cell_type": "markdown",
      "metadata": {
        "id": "EuzcpRSaSmqS"
      },
      "source": [
        "#### Date, Time, Date operations, Date intervals and conversions"
      ]
    },
    {
      "cell_type": "code",
      "metadata": {
        "colab": {
          "base_uri": "https://localhost:8080/"
        },
        "id": "lmI-cS8lSpDp",
        "outputId": "460202bc-7c31-417a-f3b3-433ad6b0e8fd"
      },
      "source": [
        "from pyspark.sql.functions import current_date, current_timestamp, date_add, date_sub, datediff, months_between, to_date, to_timestamp\r\n",
        "\r\n",
        "spark.range(2)\\\r\n",
        "  .withColumn(\"curr date\", current_date())\\\r\n",
        "  .withColumn(\"curr time\", current_timestamp())\\\r\n",
        "  .withColumn(\"Yesterday\", date_sub(col(\"curr date\"), 1))\\\r\n",
        "  .withColumn(\"Tomorrow\", date_add(col(\"curr date\"), 1))\\\r\n",
        "  .withColumn(\"datediff\", datediff(col(\"Tomorrow\"), col(\"Yesterday\")))\\\r\n",
        "  .withColumn(\"months_between\", months_between(col(\"Tomorrow\"), col(\"Yesterday\")))\\\r\n",
        "  .withColumn(\"to_timestamp\", to_timestamp(lit(\"2020-20-11 10:00:01\"), \"yyyy-dd-MM hh:mm:ss\"))\\\r\n",
        "  .withColumn(\"to_date\", to_date(lit(\"2020-12-20\"), \"yyyy-MM-dd\"))\\\r\n",
        "  .withColumn(\"to_date_null\", to_date(lit(\"2020-13-20\"), \"yyyy-MM-dd\"))\\\r\n",
        "  .show()"
      ],
      "execution_count": null,
      "outputs": [
        {
          "output_type": "stream",
          "text": [
            "+---+----------+--------------------+----------+----------+--------+--------------+-------------------+----------+------------+\n",
            "| id| curr date|           curr time| Yesterday|  Tomorrow|datediff|months_between|       to_timestamp|   to_date|to_date_null|\n",
            "+---+----------+--------------------+----------+----------+--------+--------------+-------------------+----------+------------+\n",
            "|  0|2021-02-02|2021-02-02 16:25:...|2021-02-01|2021-02-03|       2|    0.06451613|2020-11-20 10:00:01|2020-12-20|        null|\n",
            "|  1|2021-02-02|2021-02-02 16:25:...|2021-02-01|2021-02-03|       2|    0.06451613|2020-11-20 10:00:01|2020-12-20|        null|\n",
            "+---+----------+--------------------+----------+----------+--------+--------------+-------------------+----------+------------+\n",
            "\n"
          ],
          "name": "stdout"
        }
      ]
    },
    {
      "cell_type": "markdown",
      "metadata": {
        "id": "6VTHjAcWYKX9"
      },
      "source": [
        "#### Null values\r\n",
        "\r\n",
        "Null values are inserted in rows as `None` and can be filled with DataFrame method `na.fill` or eliminated with `na.drop`"
      ]
    },
    {
      "cell_type": "code",
      "metadata": {
        "colab": {
          "base_uri": "https://localhost:8080/"
        },
        "id": "F5eQq4cdYLrE",
        "outputId": "3c08f64f-f22e-434b-9359-b0b8d9ecbabf"
      },
      "source": [
        "r1 = Row(1,\"2019-10-01\",\"Rome\",None)\r\n",
        "r2 = Row(2,\"2019-10-02\",\"Milan\",15)\r\n",
        "temp_schema = StructType([StructField(\"Id\",StringType(),False),\r\n",
        "                          StructField(\"Date\",StringType(),True),\r\n",
        "                          StructField(\"City\",StringType(),True),\r\n",
        "                          StructField(\"Temperature\",LongType(),True)])\r\n",
        "air_temp = spark.createDataFrame([r1, r2], temp_schema)\r\n",
        "\r\n",
        "air_temp.show()\r\n",
        "air_temp.na.fill({\"Temperature\":10}).show()\r\n",
        "air_temp.na.drop(\"any\").show()\r\n",
        "air_temp.na.drop(\"all\").show()\r\n"
      ],
      "execution_count": null,
      "outputs": [
        {
          "output_type": "stream",
          "text": [
            "+---+----------+-----+-----------+\n",
            "| Id|      Date| City|Temperature|\n",
            "+---+----------+-----+-----------+\n",
            "|  1|2019-10-01| Rome|       null|\n",
            "|  2|2019-10-02|Milan|         15|\n",
            "+---+----------+-----+-----------+\n",
            "\n",
            "+---+----------+-----+-----------+\n",
            "| Id|      Date| City|Temperature|\n",
            "+---+----------+-----+-----------+\n",
            "|  1|2019-10-01| Rome|         10|\n",
            "|  2|2019-10-02|Milan|         15|\n",
            "+---+----------+-----+-----------+\n",
            "\n",
            "+---+----------+-----+-----------+\n",
            "| Id|      Date| City|Temperature|\n",
            "+---+----------+-----+-----------+\n",
            "|  2|2019-10-02|Milan|         15|\n",
            "+---+----------+-----+-----------+\n",
            "\n",
            "+---+----------+-----+-----------+\n",
            "| Id|      Date| City|Temperature|\n",
            "+---+----------+-----+-----------+\n",
            "|  1|2019-10-01| Rome|       null|\n",
            "|  2|2019-10-02|Milan|         15|\n",
            "+---+----------+-----+-----------+\n",
            "\n"
          ],
          "name": "stdout"
        }
      ]
    },
    {
      "cell_type": "markdown",
      "metadata": {
        "id": "yagiOeu0bg_4"
      },
      "source": [
        "#### Complex values\r\n",
        "\r\n",
        "Complex values as `struct` columns, created by parenthesised expressions.\r\n",
        "\r\n",
        "Refer to components of struct columns either using dot notation\r\n",
        "in expressions, or using the `getField` method of columns"
      ]
    },
    {
      "cell_type": "code",
      "metadata": {
        "colab": {
          "base_uri": "https://localhost:8080/"
        },
        "id": "QIYMsi6Kbuhq",
        "outputId": "01cdcad9-bccd-491a-a623-fc62d7aa3513"
      },
      "source": [
        "from pyspark.sql.functions import struct\r\n",
        "\r\n",
        "at1 = air_temp.selectExpr(\"(Date,City) as TimeLoc\", \"Temperature\")\r\n",
        "at2 = air_temp.select(struct(\"Date\",\"City\").alias(\"TimeLoc\"), \"Temperature\")\r\n",
        "\r\n",
        "at1.show()\r\n",
        "at2.show()\r\n",
        "at1.printSchema()\r\n",
        "at2.printSchema()\r\n",
        "\r\n",
        "at1.where(\"TimeLoc.City = 'Milan'\")\\\r\n",
        "  .select(col(\"TimeLoc\").getField(\"Date\"), \"Temperature\")\\\r\n",
        "  .show()"
      ],
      "execution_count": null,
      "outputs": [
        {
          "output_type": "stream",
          "text": [
            "+-------------------+-----------+\n",
            "|            TimeLoc|Temperature|\n",
            "+-------------------+-----------+\n",
            "| [2019-10-01, Rome]|       null|\n",
            "|[2019-10-02, Milan]|         15|\n",
            "+-------------------+-----------+\n",
            "\n",
            "+-------------------+-----------+\n",
            "|            TimeLoc|Temperature|\n",
            "+-------------------+-----------+\n",
            "| [2019-10-01, Rome]|       null|\n",
            "|[2019-10-02, Milan]|         15|\n",
            "+-------------------+-----------+\n",
            "\n",
            "root\n",
            " |-- TimeLoc: struct (nullable = false)\n",
            " |    |-- Date: string (nullable = true)\n",
            " |    |-- City: string (nullable = true)\n",
            " |-- Temperature: long (nullable = true)\n",
            "\n",
            "root\n",
            " |-- TimeLoc: struct (nullable = false)\n",
            " |    |-- Date: string (nullable = true)\n",
            " |    |-- City: string (nullable = true)\n",
            " |-- Temperature: long (nullable = true)\n",
            "\n",
            "+------------+-----------+\n",
            "|TimeLoc.Date|Temperature|\n",
            "+------------+-----------+\n",
            "|  2019-10-02|         15|\n",
            "+------------+-----------+\n",
            "\n"
          ],
          "name": "stdout"
        }
      ]
    },
    {
      "cell_type": "markdown",
      "metadata": {
        "id": "jHnJ6av1fA5u"
      },
      "source": [
        "#### Regular expression groups"
      ]
    },
    {
      "cell_type": "code",
      "metadata": {
        "colab": {
          "base_uri": "https://localhost:8080/"
        },
        "id": "s2t77QthfDOj",
        "outputId": "eef540c5-d28c-447d-eb5e-2dd716608b40"
      },
      "source": [
        "# (id) | (timestamp) | (text) (url)\r\n",
        "re = \"^([0-9]+)\\|([a-zA-Z0-9:+ ]+)\\|(.+)( http://reut.rs.*)$\"\r\n",
        "h_news_tw = h_news.select(\r\n",
        "    regexp_extract(col(\"Tweet Text\"), re, 2).alias(\"Time\"),\r\n",
        "    regexp_extract(col(\"Tweet Text\"), re, 3).alias(\"Tweet\"))\r\n",
        "h_news_tw.show(2)"
      ],
      "execution_count": null,
      "outputs": [
        {
          "output_type": "stream",
          "text": [
            "+--------------------+--------------------+\n",
            "|                Time|               Tweet|\n",
            "+--------------------+--------------------+\n",
            "|Thu Apr 09 21:40:...|Los Angeles close...|\n",
            "|Thu Apr 09 21:24:...|U.S. cuts poultry...|\n",
            "+--------------------+--------------------+\n",
            "only showing top 2 rows\n",
            "\n"
          ],
          "name": "stdout"
        }
      ]
    },
    {
      "cell_type": "markdown",
      "metadata": {
        "id": "IRHSEuA7f3dv"
      },
      "source": [
        "#### Split, Explode\r\n",
        "\r\n",
        "It can be used `split` to transform columns values to array and `explode` to put each value of an array on a separate row, duplicating the\r\n",
        "values of the other columns, useful to transform transaction to normal form"
      ]
    },
    {
      "cell_type": "code",
      "metadata": {
        "colab": {
          "base_uri": "https://localhost:8080/"
        },
        "id": "eWvMFKGEgBM0",
        "outputId": "39cb2c41-768c-450e-faa2-9de1f1d9331e"
      },
      "source": [
        "from pyspark.sql.functions import split, explode\r\n",
        "\r\n",
        "h_news_words = h_news_tw.select(\"Time\",\r\n",
        "                                split(col(\"Tweet\"), \" \").alias(\"Tweet words\"))\r\n",
        "h_news_words.show(4)\r\n",
        "h_news_words.select(\"Time\",\r\n",
        "                    explode(col(\"Tweet words\")).alias(\"Word\")).show(4)"
      ],
      "execution_count": null,
      "outputs": [
        {
          "output_type": "stream",
          "text": [
            "+--------------------+--------------------+\n",
            "|                Time|         Tweet words|\n",
            "+--------------------+--------------------+\n",
            "|Thu Apr 09 21:40:...|[Los, Angeles, cl...|\n",
            "|Thu Apr 09 21:24:...|[U.S., cuts, poul...|\n",
            "|Thu Apr 09 21:04:...|[Fears, over, Rou...|\n",
            "|Thu Apr 09 19:49:...|[Liberia, watchdo...|\n",
            "+--------------------+--------------------+\n",
            "only showing top 4 rows\n",
            "\n",
            "+--------------------+-------+\n",
            "|                Time|   Word|\n",
            "+--------------------+-------+\n",
            "|Thu Apr 09 21:40:...|    Los|\n",
            "|Thu Apr 09 21:40:...|Angeles|\n",
            "|Thu Apr 09 21:40:...| closes|\n",
            "|Thu Apr 09 21:40:...|    500|\n",
            "+--------------------+-------+\n",
            "only showing top 4 rows\n",
            "\n"
          ],
          "name": "stdout"
        }
      ]
    },
    {
      "cell_type": "markdown",
      "metadata": {
        "id": "WmXeHfPjh-rN"
      },
      "source": [
        "#### Map\r\n",
        "\r\n",
        "Function `create_map` creates key-value pairs (map) from columns, which can be accessed with expressions and square\r\n",
        "brackets or columns and square brackets"
      ]
    },
    {
      "cell_type": "code",
      "metadata": {
        "colab": {
          "base_uri": "https://localhost:8080/"
        },
        "id": "8wNZquf5iJDF",
        "outputId": "e56b24ad-9fe0-48a0-b609-78af2e606bd0"
      },
      "source": [
        "from pyspark.sql.functions import create_map\r\n",
        "\r\n",
        "exp_poll = df.select(create_map(col(\"Date\"),\r\n",
        "                                col(\"Concentration\")).alias(\"DateConc\"))\r\n",
        "exp_poll.show(3, False) # False: don't truncate\r\n",
        "\r\n",
        "exp_poll.selectExpr(\"DateConc['2015-10-30']\").show(2)\r\n",
        "exp_poll.select(col(\"DateConc\")['2015-10-30']).show(2)"
      ],
      "execution_count": null,
      "outputs": [
        {
          "output_type": "stream",
          "text": [
            "+------------------+\n",
            "|DateConc          |\n",
            "+------------------+\n",
            "|[2015-10-30 -> 79]|\n",
            "|[2015-10-08 -> 25]|\n",
            "|[2015-02-04 -> 59]|\n",
            "+------------------+\n",
            "only showing top 3 rows\n",
            "\n",
            "+--------------------+\n",
            "|DateConc[2015-10-30]|\n",
            "+--------------------+\n",
            "|                  79|\n",
            "|                null|\n",
            "+--------------------+\n",
            "only showing top 2 rows\n",
            "\n",
            "+--------------------+\n",
            "|DateConc[2015-10-30]|\n",
            "+--------------------+\n",
            "|                  79|\n",
            "|                null|\n",
            "+--------------------+\n",
            "only showing top 2 rows\n",
            "\n"
          ],
          "name": "stdout"
        }
      ]
    },
    {
      "cell_type": "markdown",
      "metadata": {
        "id": "OBx9AkK8o61a"
      },
      "source": [
        "## 3. MLlib"
      ]
    },
    {
      "cell_type": "markdown",
      "metadata": {
        "id": "yW7ElJ-bqQkA"
      },
      "source": [
        "#### Vector\r\n",
        "\r\n",
        "In both supervised and unsupervised machine learning,\r\n",
        "features are encoded as vectors, dense or sparse"
      ]
    },
    {
      "cell_type": "code",
      "metadata": {
        "id": "IylW-yQdjb6X",
        "colab": {
          "base_uri": "https://localhost:8080/"
        },
        "outputId": "52d66ea8-b479-4013-92f5-b322460ac5bb"
      },
      "source": [
        "from pyspark.ml.linalg import Vectors\r\n",
        "\r\n",
        "v = Vectors.dense(3.141, 2.718)\r\n",
        "v"
      ],
      "execution_count": null,
      "outputs": [
        {
          "output_type": "execute_result",
          "data": {
            "text/plain": [
              "DenseVector([3.141, 2.718])"
            ]
          },
          "metadata": {
            "tags": []
          },
          "execution_count": 42
        }
      ]
    },
    {
      "cell_type": "code",
      "metadata": {
        "colab": {
          "base_uri": "https://localhost:8080/"
        },
        "id": "1u-lT-ojp8xF",
        "outputId": "1dce0cd7-530f-4780-9a47-1dc8939a5bce"
      },
      "source": [
        "# total element, positions, values\r\n",
        "s = Vectors.sparse(3, [1, 2], [3.141, 2.718])\r\n",
        "s"
      ],
      "execution_count": null,
      "outputs": [
        {
          "output_type": "execute_result",
          "data": {
            "text/plain": [
              "SparseVector(3, {1: 3.141, 2: 2.718})"
            ]
          },
          "metadata": {
            "tags": []
          },
          "execution_count": 43
        }
      ]
    },
    {
      "cell_type": "markdown",
      "metadata": {
        "id": "6ZoNLfq7RHAj"
      },
      "source": [
        "#### Wine"
      ]
    },
    {
      "cell_type": "code",
      "metadata": {
        "colab": {
          "base_uri": "https://localhost:8080/"
        },
        "id": "K3pvHleEqNBS",
        "outputId": "b381a060-6dcf-4d78-d978-1d35c5a8b993"
      },
      "source": [
        "from pyspark.sql.types import IntegerType, DoubleType\r\n",
        "\r\n",
        "wine_schema = StructType([\r\n",
        "  StructField(\"Class\",IntegerType(),True),\r\n",
        "  StructField(\"Alcohol\",DoubleType(),True),\r\n",
        "  StructField(\"Malic acid\",DoubleType(),True),\r\n",
        "  StructField(\"Ash\",DoubleType(),True),\r\n",
        "  StructField(\"Alcalinity of ash\",DoubleType(),True),\r\n",
        "  StructField(\"Magnesium\",DoubleType(),True),\r\n",
        "  StructField(\"Total phenols\",DoubleType(),True),\r\n",
        "  StructField(\"Flavonoids\",DoubleType(),True),\r\n",
        "  StructField(\"Nonflavonoid phenols\",DoubleType(),True),\r\n",
        "  StructField(\"Proanthocyanins\",DoubleType(),True),\r\n",
        "  StructField(\"Color intensity\",DoubleType(),True),\r\n",
        "  StructField(\"Hue\",DoubleType(),True),\r\n",
        "  StructField(\"OD280/OD315 of diluted wines\",DoubleType(),True),\r\n",
        "  StructField(\"Proline\",DoubleType(),True)\r\n",
        "])\r\n",
        "\r\n",
        "wine = spark.read.format(\"csv\")\\\r\n",
        "  .schema(wine_schema)\\\r\n",
        "  .option(\"sep\", \",\")\\\r\n",
        "  .option(\"path\", data_path + \"wine.data\").load()\r\n",
        "\r\n",
        "wine.show(3)"
      ],
      "execution_count": null,
      "outputs": [
        {
          "output_type": "stream",
          "text": [
            "+-----+-------+----------+----+-----------------+---------+-------------+----------+--------------------+---------------+---------------+----+----------------------------+-------+\n",
            "|Class|Alcohol|Malic acid| Ash|Alcalinity of ash|Magnesium|Total phenols|Flavonoids|Nonflavonoid phenols|Proanthocyanins|Color intensity| Hue|OD280/OD315 of diluted wines|Proline|\n",
            "+-----+-------+----------+----+-----------------+---------+-------------+----------+--------------------+---------------+---------------+----+----------------------------+-------+\n",
            "|    1|  14.23|      1.71|2.43|             15.6|    127.0|          2.8|      3.06|                0.28|           2.29|           5.64|1.04|                        3.92| 1065.0|\n",
            "|    1|   13.2|      1.78|2.14|             11.2|    100.0|         2.65|      2.76|                0.26|           1.28|           4.38|1.05|                         3.4| 1050.0|\n",
            "|    1|  13.16|      2.36|2.67|             18.6|    101.0|          2.8|      3.24|                 0.3|           2.81|           5.68|1.03|                        3.17| 1185.0|\n",
            "+-----+-------+----------+----+-----------------+---------+-------------+----------+--------------------+---------------+---------------+----+----------------------------+-------+\n",
            "only showing top 3 rows\n",
            "\n"
          ],
          "name": "stdout"
        }
      ]
    },
    {
      "cell_type": "markdown",
      "metadata": {
        "id": "O2mT-sLDYG5Z"
      },
      "source": [
        "Generate features using an R model formula. Features contains all attributes apart from class. Alternatively, `VectorAssembler` can be used for this purpose"
      ]
    },
    {
      "cell_type": "code",
      "metadata": {
        "colab": {
          "base_uri": "https://localhost:8080/"
        },
        "id": "J94l-8i2SUVd",
        "outputId": "046f39e4-64e4-4051-a7ee-c4ee72980635"
      },
      "source": [
        "from pyspark.ml.feature import RFormula\r\n",
        "\r\n",
        "rf = RFormula(formula=\"class ~ .\")\r\n",
        "rf_fit = rf.fit(wine)\r\n",
        "rf_transfd = rf_fit.transform(wine)\r\n",
        "rf_transfd.printSchema()"
      ],
      "execution_count": null,
      "outputs": [
        {
          "output_type": "stream",
          "text": [
            "root\n",
            " |-- Class: integer (nullable = true)\n",
            " |-- Alcohol: double (nullable = true)\n",
            " |-- Malic acid: double (nullable = true)\n",
            " |-- Ash: double (nullable = true)\n",
            " |-- Alcalinity of ash: double (nullable = true)\n",
            " |-- Magnesium: double (nullable = true)\n",
            " |-- Total phenols: double (nullable = true)\n",
            " |-- Flavonoids: double (nullable = true)\n",
            " |-- Nonflavonoid phenols: double (nullable = true)\n",
            " |-- Proanthocyanins: double (nullable = true)\n",
            " |-- Color intensity: double (nullable = true)\n",
            " |-- Hue: double (nullable = true)\n",
            " |-- OD280/OD315 of diluted wines: double (nullable = true)\n",
            " |-- Proline: double (nullable = true)\n",
            " |-- features: vector (nullable = true)\n",
            "\n"
          ],
          "name": "stdout"
        }
      ]
    },
    {
      "cell_type": "code",
      "metadata": {
        "colab": {
          "base_uri": "https://localhost:8080/"
        },
        "id": "POjPrbocUe1V",
        "outputId": "e8e5d33c-5e4b-4f2e-cd24-7ff909c0d443"
      },
      "source": [
        "from pyspark.ml.classification import DecisionTreeClassifier\r\n",
        "\r\n",
        "train, test = rf_transfd.randomSplit([0.7, 0.3])\r\n",
        "in_train = train.selectExpr(\"features\", \"cast(class as double) as label\") # dataset: features, label\r\n",
        "\r\n",
        "tree = DecisionTreeClassifier()\r\n",
        "print(tree.explainParams())\r\n",
        "tree_mod = tree.fit(in_train)\r\n",
        "tree_mod.transform(in_train).select(\"label\", \"prediction\").show(3)\r\n",
        "# dataset after transform: features|label|rawPrediction|probability|prediction|"
      ],
      "execution_count": null,
      "outputs": [
        {
          "output_type": "stream",
          "text": [
            "cacheNodeIds: If false, the algorithm will pass trees to executors to match instances with nodes. If true, the algorithm will cache node IDs for each instance. Caching can speed up training of deeper trees. Users can set how often should the cache be checkpointed or disable it by setting checkpointInterval. (default: False)\n",
            "checkpointInterval: set checkpoint interval (>= 1) or disable checkpoint (-1). E.g. 10 means that the cache will get checkpointed every 10 iterations. Note: this setting will be ignored if the checkpoint directory is not set in the SparkContext. (default: 10)\n",
            "featuresCol: features column name. (default: features)\n",
            "impurity: Criterion used for information gain calculation (case-insensitive). Supported options: entropy, gini (default: gini)\n",
            "labelCol: label column name. (default: label)\n",
            "maxBins: Max number of bins for discretizing continuous features.  Must be >=2 and >= number of categories for any categorical feature. (default: 32)\n",
            "maxDepth: Maximum depth of the tree. (>= 0) E.g., depth 0 means 1 leaf node; depth 1 means 1 internal node + 2 leaf nodes. (default: 5)\n",
            "maxMemoryInMB: Maximum memory in MB allocated to histogram aggregation. If too small, then 1 node will be split per iteration, and its aggregates may exceed this size. (default: 256)\n",
            "minInfoGain: Minimum information gain for a split to be considered at a tree node. (default: 0.0)\n",
            "minInstancesPerNode: Minimum number of instances each child must have after split. If a split causes the left or right child to have fewer than minInstancesPerNode, the split will be discarded as invalid. Should be >= 1. (default: 1)\n",
            "predictionCol: prediction column name. (default: prediction)\n",
            "probabilityCol: Column name for predicted class conditional probabilities. Note: Not all models output well-calibrated probability estimates! These probabilities should be treated as confidences, not precise probabilities. (default: probability)\n",
            "rawPredictionCol: raw prediction (a.k.a. confidence) column name. (default: rawPrediction)\n",
            "seed: random seed. (default: -313495889300972989)\n",
            "+-----+----------+\n",
            "|label|prediction|\n",
            "+-----+----------+\n",
            "|  1.0|       1.0|\n",
            "|  1.0|       1.0|\n",
            "|  1.0|       1.0|\n",
            "+-----+----------+\n",
            "only showing top 3 rows\n",
            "\n"
          ],
          "name": "stdout"
        }
      ]
    },
    {
      "cell_type": "markdown",
      "metadata": {
        "id": "GXRQxZe1ccdn"
      },
      "source": [
        "#### Wine Quality"
      ]
    },
    {
      "cell_type": "markdown",
      "metadata": {
        "id": "PjjUWDRWnR4-"
      },
      "source": [
        "##### A - Decision Tree"
      ]
    },
    {
      "cell_type": "code",
      "metadata": {
        "colab": {
          "base_uri": "https://localhost:8080/"
        },
        "id": "WvcICvdbcesx",
        "outputId": "645ac884-9e87-434b-a306-4b7f87d90c5a"
      },
      "source": [
        "wineq = spark.read.format(\"csv\")\\\r\n",
        "  .option(\"sep\", \";\")\\\r\n",
        "  .option(\"header\", \"True\")\\\r\n",
        "  .option(\"inferSchema\", \"True\")\\\r\n",
        "  .option(\"path\", data_path + \"winequality-red.csv\").load()\r\n",
        "\r\n",
        "wineq.printSchema()\r\n",
        "\r\n",
        "# create 'features'\r\n",
        "rfwq = RFormula(formula=\"quality ~ .\")\r\n",
        "rf_fit_wq = rfwq.fit(wineq)\r\n",
        "rf_transfd_wq = rf_fit_wq.transform(wineq)\r\n",
        "\r\n",
        "# create and fit Decision Tree\r\n",
        "train_wq, test_wq = rf_transfd_wq.randomSplit([0.7, 0.3])\r\n",
        "in_train_wq = train_wq.selectExpr(\"features\", \"label\")\r\n",
        "tree_wq = DecisionTreeClassifier() \r\n",
        "tree_mod_wq = tree_wq.fit(in_train_wq)\r\n",
        "tree_mod_wq.transform(in_train_wq).select(\"label\", \"prediction\").show(4)\r\n"
      ],
      "execution_count": null,
      "outputs": [
        {
          "output_type": "stream",
          "text": [
            "root\n",
            " |-- fixed acidity: double (nullable = true)\n",
            " |-- volatile acidity: double (nullable = true)\n",
            " |-- citric acid: double (nullable = true)\n",
            " |-- residual sugar: double (nullable = true)\n",
            " |-- chlorides: double (nullable = true)\n",
            " |-- free sulfur dioxide: double (nullable = true)\n",
            " |-- total sulfur dioxide: double (nullable = true)\n",
            " |-- density: double (nullable = true)\n",
            " |-- pH: double (nullable = true)\n",
            " |-- sulphates: double (nullable = true)\n",
            " |-- alcohol: double (nullable = true)\n",
            " |-- quality: integer (nullable = true)\n",
            "\n",
            "+-----+----------+\n",
            "|label|prediction|\n",
            "+-----+----------+\n",
            "|  4.0|       6.0|\n",
            "|  6.0|       6.0|\n",
            "|  7.0|       7.0|\n",
            "|  6.0|       6.0|\n",
            "+-----+----------+\n",
            "only showing top 4 rows\n",
            "\n"
          ],
          "name": "stdout"
        }
      ]
    },
    {
      "cell_type": "markdown",
      "metadata": {
        "id": "SA7kOkdJnVix"
      },
      "source": [
        "##### B - LinearRegression"
      ]
    },
    {
      "cell_type": "code",
      "metadata": {
        "colab": {
          "base_uri": "https://localhost:8080/"
        },
        "id": "LDUi2wxVnXST",
        "outputId": "1b1b371e-1ef5-4b7f-ec40-ecc0fee6b77d"
      },
      "source": [
        "wineq_schema = StructType([\\\r\n",
        "    StructField(\"FAcid\",DoubleType(),True),    # 1 - fixed acidity\t\t\t  \r\n",
        "    StructField(\"VAcid\",DoubleType(),True),    # 2 - volatile acidity\t\t\t  \r\n",
        "    StructField(\"Citr\",DoubleType(),True),     # 3 - citric acid\t\t\t  \r\n",
        "    StructField(\"ReSug\",DoubleType(),True),    # 4 - residual sugar\t\t\t  \r\n",
        "    StructField(\"Chlo\",DoubleType(),True),     # 5 - chlorides\t\t\t\t  \r\n",
        "    StructField(\"FrSO2\",DoubleType(),True),    # 6 - free sulfur dioxide\t\t  \r\n",
        "    StructField(\"TSO2\",DoubleType(),True),     # 7 - total sulfur dioxide\t\t  \r\n",
        "    StructField(\"Den\",DoubleType(),True),      # 8 - density\t\t\t\t  \r\n",
        "    StructField(\"pH\",DoubleType(),True),       # 9 - pH\t\t\t\t  \r\n",
        "    StructField(\"Sulph\",DoubleType(),True),    # 10 - sulphates\t\t\t  \r\n",
        "    StructField(\"Alc\",DoubleType(),True),      # 11 - alcohol\t\t\t\t  \r\n",
        "    StructField(\"Qual\",DoubleType(),True)])    # 12 - quality (score between 0 and 10)\r\n",
        "wineq = spark.read.format(\"csv\").option(\"header\", \"True\").option(\"sep\", \";\")\\\r\n",
        "        .schema(wineq_schema)\\\r\n",
        "        .load(data_path + \"winequality-red.csv\")\r\n",
        "wineq.show(3)"
      ],
      "execution_count": null,
      "outputs": [
        {
          "output_type": "stream",
          "text": [
            "+-----+-----+----+-----+-----+-----+----+------+----+-----+---+----+\n",
            "|FAcid|VAcid|Citr|ReSug| Chlo|FrSO2|TSO2|   Den|  pH|Sulph|Alc|Qual|\n",
            "+-----+-----+----+-----+-----+-----+----+------+----+-----+---+----+\n",
            "|  7.4|  0.7| 0.0|  1.9|0.076| 11.0|34.0|0.9978|3.51| 0.56|9.4| 5.0|\n",
            "|  7.8| 0.88| 0.0|  2.6|0.098| 25.0|67.0|0.9968| 3.2| 0.68|9.8| 5.0|\n",
            "|  7.8| 0.76|0.04|  2.3|0.092| 15.0|54.0| 0.997|3.26| 0.65|9.8| 5.0|\n",
            "+-----+-----+----+-----+-----+-----+----+------+----+-----+---+----+\n",
            "only showing top 3 rows\n",
            "\n"
          ],
          "name": "stdout"
        }
      ]
    },
    {
      "cell_type": "code",
      "metadata": {
        "colab": {
          "base_uri": "https://localhost:8080/"
        },
        "id": "8sR_rebXnkx9",
        "outputId": "e5e543ec-3e9e-4a51-c64a-ad16f2f16256"
      },
      "source": [
        "from pyspark.ml.feature import VectorAssembler, StandardScaler\r\n",
        "\r\n",
        "vecAssembler = VectorAssembler(outputCol=\"features\")\r\n",
        "vecAssembler.setInputCols([\"FAcid\",\"VAcid\",\"Citr\",\"ReSug\",\"Chlo\",\"FrSO2\",\"TSO2\",\"Den\",\"pH\",\"Sulph\",\"Alc\"])\r\n",
        "v_wineq = vecAssembler.transform(wineq)\r\n",
        "v_wineq.show(3, False)"
      ],
      "execution_count": null,
      "outputs": [
        {
          "output_type": "stream",
          "text": [
            "+-----+-----+----+-----+-----+-----+----+------+----+-----+---+----+-------------------------------------------------------+\n",
            "|FAcid|VAcid|Citr|ReSug|Chlo |FrSO2|TSO2|Den   |pH  |Sulph|Alc|Qual|features                                               |\n",
            "+-----+-----+----+-----+-----+-----+----+------+----+-----+---+----+-------------------------------------------------------+\n",
            "|7.4  |0.7  |0.0 |1.9  |0.076|11.0 |34.0|0.9978|3.51|0.56 |9.4|5.0 |[7.4,0.7,0.0,1.9,0.076,11.0,34.0,0.9978,3.51,0.56,9.4] |\n",
            "|7.8  |0.88 |0.0 |2.6  |0.098|25.0 |67.0|0.9968|3.2 |0.68 |9.8|5.0 |[7.8,0.88,0.0,2.6,0.098,25.0,67.0,0.9968,3.2,0.68,9.8] |\n",
            "|7.8  |0.76 |0.04|2.3  |0.092|15.0 |54.0|0.997 |3.26|0.65 |9.8|5.0 |[7.8,0.76,0.04,2.3,0.092,15.0,54.0,0.997,3.26,0.65,9.8]|\n",
            "+-----+-----+----+-----+-----+-----+----+------+----+-----+---+----+-------------------------------------------------------+\n",
            "only showing top 3 rows\n",
            "\n"
          ],
          "name": "stdout"
        }
      ]
    },
    {
      "cell_type": "code",
      "metadata": {
        "colab": {
          "base_uri": "https://localhost:8080/"
        },
        "id": "YSIZSJCjn49S",
        "outputId": "464b9c6e-2b5e-4537-9ac8-9085a2f6e2be"
      },
      "source": [
        "normaliser = StandardScaler(inputCol=\"features\", outputCol=\"normFeatures\")\r\n",
        "normModel = normaliser.fit(v_wineq)\r\n",
        "wineq_norm = normModel.transform(v_wineq)\r\n",
        "wineq_norm.show(3)"
      ],
      "execution_count": null,
      "outputs": [
        {
          "output_type": "stream",
          "text": [
            "+-----+-----+----+-----+-----+-----+----+------+----+-----+---+----+--------------------+--------------------+\n",
            "|FAcid|VAcid|Citr|ReSug| Chlo|FrSO2|TSO2|   Den|  pH|Sulph|Alc|Qual|            features|        normFeatures|\n",
            "+-----+-----+----+-----+-----+-----+----+------+----+-----+---+----+--------------------+--------------------+\n",
            "|  7.4|  0.7| 0.0|  1.9|0.076| 11.0|34.0|0.9978|3.51| 0.56|9.4| 5.0|[7.4,0.7,0.0,1.9,...|[4.25019565141442...|\n",
            "|  7.8| 0.88| 0.0|  2.6|0.098| 25.0|67.0|0.9968| 3.2| 0.68|9.8| 5.0|[7.8,0.88,0.0,2.6...|[4.47993595689628...|\n",
            "|  7.8| 0.76|0.04|  2.3|0.092| 15.0|54.0| 0.997|3.26| 0.65|9.8| 5.0|[7.8,0.76,0.04,2....|[4.47993595689628...|\n",
            "+-----+-----+----+-----+-----+-----+----+------+----+-----+---+----+--------------------+--------------------+\n",
            "only showing top 3 rows\n",
            "\n"
          ],
          "name": "stdout"
        }
      ]
    },
    {
      "cell_type": "code",
      "metadata": {
        "id": "HtCyuLj6oBwD"
      },
      "source": [
        "from pyspark.ml.regression import LinearRegression\r\n",
        "\r\n",
        "inp_wineq_norm = wineq_norm.select([\"normFeatures\", \"Qual\"])\r\n",
        "train, test = inp_wineq_norm.randomSplit([0.67, 0.33])\r\n",
        "lambda_pars = [1., .1, .01, .001, .0001, .00001, .000001]\r\n",
        "weights = list()\r\n",
        "intercepts = list()\r\n",
        "RMSE = list() # root mean square error\r\n",
        "for lambda_par in lambda_pars:\r\n",
        "    ridge = LinearRegression(featuresCol = \"normFeatures\", labelCol='Qual', maxIter=100, regParam=lambda_par, elasticNetParam=0.0)\r\n",
        "    ridge_mod = ridge.fit(train)\r\n",
        "    eval_res = ridge_mod.evaluate(test)\r\n",
        "    RMSE.append(eval_res.rootMeanSquaredError)\r\n",
        "    mod_weights = ridge_mod.coefficients.toArray()\r\n",
        "    weights.append(mod_weights)\r\n",
        "    intercepts.append(ridge_mod.intercept)"
      ],
      "execution_count": null,
      "outputs": []
    },
    {
      "cell_type": "code",
      "metadata": {
        "colab": {
          "base_uri": "https://localhost:8080/"
        },
        "id": "ffizIS6rovkk",
        "outputId": "9c37be15-5178-4009-ce9a-e2a0fe6913ed"
      },
      "source": [
        "print('{:18}'.format(\"RMSE\"), \"lambda\") \r\n",
        "for i in range(len(RMSE)):   \r\n",
        "    print(RMSE[i], lambda_pars[i])"
      ],
      "execution_count": null,
      "outputs": [
        {
          "output_type": "stream",
          "text": [
            "RMSE               lambda\n",
            "0.7025212383836893 1.0\n",
            "0.6732894267318601 0.1\n",
            "0.6740968018042259 0.01\n",
            "0.6744774762868831 0.001\n",
            "0.674521827838904 0.0001\n",
            "0.6745263351502185 1e-05\n",
            "0.674526786614456 1e-06\n"
          ],
          "name": "stdout"
        }
      ]
    },
    {
      "cell_type": "code",
      "metadata": {
        "colab": {
          "base_uri": "https://localhost:8080/"
        },
        "id": "fbWTMgZvowZp",
        "outputId": "bd762aa1-7849-42fd-d608-6d3d298de6d6"
      },
      "source": [
        "n_weights = len(weights[0])\r\n",
        "ordered_idx = sorted(zip(range(n_weights), weights[2]), key=lambda x: -abs(x[1]))\r\n",
        "for (a,b) in ordered_idx:\r\n",
        "    print(wineq.columns[a])"
      ],
      "execution_count": null,
      "outputs": [
        {
          "output_type": "stream",
          "text": [
            "Alc\n",
            "VAcid\n",
            "Sulph\n",
            "TSO2\n",
            "Chlo\n",
            "pH\n",
            "Citr\n",
            "FAcid\n",
            "FrSO2\n",
            "Den\n",
            "ReSug\n"
          ],
          "name": "stdout"
        }
      ]
    },
    {
      "cell_type": "code",
      "metadata": {
        "colab": {
          "base_uri": "https://localhost:8080/",
          "height": 279
        },
        "id": "RS9AkKCVo0NH",
        "outputId": "b611ebdc-a559-4494-b7c2-5f1ee0bb5c7d"
      },
      "source": [
        "import matplotlib.pyplot as plt\r\n",
        "\r\n",
        "x = range(len(RMSE))\r\n",
        "plt.plot(x, RMSE, 'r')\r\n",
        "plt.xlabel('-log lambda')\r\n",
        "plt.ylabel('RMSE')\r\n",
        "plt.show()"
      ],
      "execution_count": null,
      "outputs": [
        {
          "output_type": "display_data",
          "data": {
            "image/png": "[encoded data removed]",
            "text/plain": [
              "<Figure size 432x288 with 1 Axes>"
            ]
          },
          "metadata": {
            "tags": [],
            "needs_background": "light"
          }
        }
      ]
    },
    {
      "cell_type": "markdown",
      "metadata": {
        "id": "PblmtusQpOpp"
      },
      "source": [
        "##### C - GBT Regressor"
      ]
    },
    {
      "cell_type": "code",
      "metadata": {
        "colab": {
          "base_uri": "https://localhost:8080/"
        },
        "id": "zfnwvZpWpe5Z",
        "outputId": "aa61e4a2-e7f5-43c2-e596-5abb1b573e87"
      },
      "source": [
        "inp_wineq = v_wineq.select([\"features\", \"Qual\"])\r\n",
        "inp_wineq.show(3)"
      ],
      "execution_count": null,
      "outputs": [
        {
          "output_type": "stream",
          "text": [
            "+--------------------+----+\n",
            "|            features|Qual|\n",
            "+--------------------+----+\n",
            "|[7.4,0.7,0.0,1.9,...| 5.0|\n",
            "|[7.8,0.88,0.0,2.6...| 5.0|\n",
            "|[7.8,0.76,0.04,2....| 5.0|\n",
            "+--------------------+----+\n",
            "only showing top 3 rows\n",
            "\n"
          ],
          "name": "stdout"
        }
      ]
    },
    {
      "cell_type": "code",
      "metadata": {
        "colab": {
          "base_uri": "https://localhost:8080/"
        },
        "id": "fzJ6kBAAp4a3",
        "outputId": "c1e829b7-09f2-4603-cdb6-ada9d99ecb09"
      },
      "source": [
        "from pyspark.ml.regression import GBTRegressor\r\n",
        "\r\n",
        "train, test = inp_wineq.randomSplit([0.67, 0.33])\r\n",
        "gb_tree = GBTRegressor(featuresCol = 'features', # Gradient boosted tree regressor \r\n",
        "                       labelCol = 'Qual', \r\n",
        "                       maxIter=100, \r\n",
        "                       maxDepth=5, \r\n",
        "                       subsamplingRate=0.5, \r\n",
        "                       stepSize=0.1)\r\n",
        "gb_tree_mod = gb_tree.fit(train)\r\n",
        "gb_tree_preds = gb_tree_mod.transform(test)\r\n",
        "gb_tree_preds.select('prediction', 'Qual').show(3)"
      ],
      "execution_count": null,
      "outputs": [
        {
          "output_type": "stream",
          "text": [
            "+-----------------+----+\n",
            "|       prediction|Qual|\n",
            "+-----------------+----+\n",
            "|6.589831474531471| 7.0|\n",
            "|5.749821204132721| 6.0|\n",
            "|7.591536065399672| 7.0|\n",
            "+-----------------+----+\n",
            "only showing top 3 rows\n",
            "\n"
          ],
          "name": "stdout"
        }
      ]
    },
    {
      "cell_type": "code",
      "metadata": {
        "colab": {
          "base_uri": "https://localhost:8080/"
        },
        "id": "BJBwb2Q6qpwX",
        "outputId": "77f91e98-ab9c-4395-97f6-7b3d9fac8f54"
      },
      "source": [
        "from pyspark.ml.evaluation import RegressionEvaluator\r\n",
        "\r\n",
        "gb_tree_eval = RegressionEvaluator(\r\n",
        "                    labelCol=\"Qual\", \r\n",
        "                    predictionCol=\"prediction\", \r\n",
        "                    metricName=\"rmse\")\r\n",
        "RMSE = gb_tree_eval.evaluate(gb_tree_preds)\r\n",
        "\r\n",
        "gb_tree_eval = RegressionEvaluator(\r\n",
        "                    labelCol=\"Qual\", \r\n",
        "                    predictionCol=\"prediction\", \r\n",
        "                    metricName=\"r2\")\r\n",
        "R2 = gb_tree_eval.evaluate(gb_tree_preds)\r\n",
        "\r\n",
        "print(\"RMSE (testing): \", RMSE)\r\n",
        "print(\"R Squared (testing):\", R2)"
      ],
      "execution_count": null,
      "outputs": [
        {
          "output_type": "stream",
          "text": [
            "RMSE (testing):  0.7697892515824251\n",
            "R Squared (testing): 0.1058223979645515\n"
          ],
          "name": "stdout"
        }
      ]
    },
    {
      "cell_type": "markdown",
      "metadata": {
        "id": "xhSFRAU1s-BB"
      },
      "source": [
        "##### D - Data Exploration"
      ]
    },
    {
      "cell_type": "code",
      "metadata": {
        "colab": {
          "base_uri": "https://localhost:8080/",
          "height": 285
        },
        "id": "fQCJJmkbtGPj",
        "outputId": "b444691a-1d6a-4e90-c8c9-92cd440984bb"
      },
      "source": [
        "wineq_pd = wineq.toPandas()\r\n",
        "wineq_pd.boxplot()"
      ],
      "execution_count": null,
      "outputs": [
        {
          "output_type": "execute_result",
          "data": {
            "text/plain": [
              "<matplotlib.axes._subplots.AxesSubplot at 0x7f9f0a8a9400>"
            ]
          },
          "metadata": {
            "tags": []
          },
          "execution_count": 58
        },
        {
          "output_type": "display_data",
          "data": {
            "image/png": "[encoded data removed]",
            "text/plain": [
              "<Figure size 432x288 with 1 Axes>"
            ]
          },
          "metadata": {
            "tags": [],
            "needs_background": "light"
          }
        }
      ]
    },
    {
      "cell_type": "code",
      "metadata": {
        "colab": {
          "base_uri": "https://localhost:8080/",
          "height": 283
        },
        "id": "DW42ZpxqtNqh",
        "outputId": "3a540635-5ac9-46a9-a487-9f5fdd8be578"
      },
      "source": [
        "# normalise the data\r\n",
        "desc_stats = wineq_pd.describe()\r\n",
        "wineq_norm = wineq_pd.copy()\r\n",
        "for c in desc_stats.columns:\r\n",
        "  mean = desc_stats.loc['mean', c]\r\n",
        "  sd = desc_stats.loc['std', c]\r\n",
        "  wineq_norm.loc[:, c] = (wineq_pd.loc[:, c] - mean) / sd\r\n",
        "wineq_norm.boxplot()"
      ],
      "execution_count": null,
      "outputs": [
        {
          "output_type": "execute_result",
          "data": {
            "text/plain": [
              "<matplotlib.axes._subplots.AxesSubplot at 0x7f9f0a2b4978>"
            ]
          },
          "metadata": {
            "tags": []
          },
          "execution_count": 59
        },
        {
          "output_type": "display_data",
          "data": {
            "image/png": "[encoded data removed]",
            "text/plain": [
              "<Figure size 432x288 with 1 Axes>"
            ]
          },
          "metadata": {
            "tags": [],
            "needs_background": "light"
          }
        }
      ]
    },
    {
      "cell_type": "code",
      "metadata": {
        "colab": {
          "base_uri": "https://localhost:8080/",
          "height": 265
        },
        "id": "Ozt4a4OyukGs",
        "outputId": "61aa5aef-7f5b-4d89-d125-4fc12fb3c520"
      },
      "source": [
        "import numpy as np\r\n",
        "from numpy import exp\r\n",
        "\r\n",
        "# fancy representations, analogous to wineq_norm.boxplot()\r\n",
        "colour = 1.0/(1.0 + exp(-wineq_norm['Qual'].values))\r\n",
        "parfig = plt.figure()\r\n",
        "cols = wineq_norm.columns.tolist()[:-1]\r\n",
        "for i in range(len(wineq_norm)):\r\n",
        "  row = wineq_norm.iloc[i, :len(wineq_norm.columns)-1]\r\n",
        "  plt.xticks(np.arange(len(row)), cols, rotation=85)\r\n",
        "  row.plot(color=plt.cm.RdYlBu(colour[i]), alpha=.4)"
      ],
      "execution_count": null,
      "outputs": [
        {
          "output_type": "display_data",
          "data": {
            "image/png": "[encoded data removed]",
            "text/plain": [
              "<Figure size 432x288 with 1 Axes>"
            ]
          },
          "metadata": {
            "tags": [],
            "needs_background": "light"
          }
        }
      ]
    },
    {
      "cell_type": "code",
      "metadata": {
        "colab": {
          "base_uri": "https://localhost:8080/",
          "height": 565
        },
        "id": "hmQIZTqSwXmW",
        "outputId": "8800d806-934f-4e73-de4f-681390906e7d"
      },
      "source": [
        "correlation = wineq_pd.corr()\r\n",
        "print(correlation)\r\n",
        "plt.pcolor(correlation)"
      ],
      "execution_count": null,
      "outputs": [
        {
          "output_type": "stream",
          "text": [
            "          FAcid     VAcid      Citr  ...     Sulph       Alc      Qual\n",
            "FAcid  1.000000 -0.256131  0.671703  ...  0.183006 -0.061668  0.124052\n",
            "VAcid -0.256131  1.000000 -0.552496  ... -0.260987 -0.202288 -0.390558\n",
            "Citr   0.671703 -0.552496  1.000000  ...  0.312770  0.109903  0.226373\n",
            "ReSug  0.114777  0.001918  0.143577  ...  0.005527  0.042075  0.013732\n",
            "Chlo   0.093705  0.061298  0.203823  ...  0.371260 -0.221141 -0.128907\n",
            "FrSO2 -0.153794 -0.010504 -0.060978  ...  0.051658 -0.069408 -0.050656\n",
            "TSO2  -0.113181  0.076470  0.035533  ...  0.042947 -0.205654 -0.185100\n",
            "Den    0.668047  0.022026  0.364947  ...  0.148506 -0.496180 -0.174919\n",
            "pH    -0.682978  0.234937 -0.541904  ... -0.196648  0.205633 -0.057731\n",
            "Sulph  0.183006 -0.260987  0.312770  ...  1.000000  0.093595  0.251397\n",
            "Alc   -0.061668 -0.202288  0.109903  ...  0.093595  1.000000  0.476166\n",
            "Qual   0.124052 -0.390558  0.226373  ...  0.251397  0.476166  1.000000\n",
            "\n",
            "[12 rows x 12 columns]\n"
          ],
          "name": "stdout"
        },
        {
          "output_type": "execute_result",
          "data": {
            "text/plain": [
              "<matplotlib.collections.PolyCollection at 0x7f9f07b05b38>"
            ]
          },
          "metadata": {
            "tags": []
          },
          "execution_count": 61
        },
        {
          "output_type": "display_data",
          "data": {
            "image/png": "[encoded data removed]",
            "text/plain": [
              "<Figure size 432x288 with 1 Axes>"
            ]
          },
          "metadata": {
            "tags": [],
            "needs_background": "light"
          }
        }
      ]
    },
    {
      "cell_type": "markdown",
      "metadata": {
        "id": "_BraAWri0RbW"
      },
      "source": [
        "#### Sonar"
      ]
    },
    {
      "cell_type": "code",
      "metadata": {
        "colab": {
          "base_uri": "https://localhost:8080/"
        },
        "id": "3_PZCV9ixQ4u",
        "outputId": "747b7f0c-e4f9-4c7d-ac09-f560e513466e"
      },
      "source": [
        "from pyspark.ml.feature import StringIndexer\r\n",
        "from pyspark.ml import Pipeline\r\n",
        "\r\n",
        "rm = spark.read.format(\"csv\").option(\"header\", \"False\")\\\r\n",
        "     .option(\"inferSchema\", \"True\")\\\r\n",
        "     .load(data_path + \"sonar.all-data\")\r\n",
        "\r\n",
        "inputs = rm.columns[:-1]\r\n",
        "string_indexer_class = StringIndexer(inputCol = \"_c60\", outputCol = 'label')\r\n",
        "vecAssembler = VectorAssembler(inputCols=inputs, outputCol=\"features\")\r\n",
        "stages = [string_indexer_class, vecAssembler]\r\n",
        "\r\n",
        "pipeline = Pipeline(stages = stages)\r\n",
        "pipeline_mod = pipeline.fit(rm)\r\n",
        "rm_transfd = pipeline_mod.transform(rm)\r\n",
        "inp_rm = rm_transfd.select(['features', 'label'])\r\n",
        "inp_rm.show(3)"
      ],
      "execution_count": null,
      "outputs": [
        {
          "output_type": "stream",
          "text": [
            "+--------------------+-----+\n",
            "|            features|label|\n",
            "+--------------------+-----+\n",
            "|[0.02,0.0371,0.04...|  1.0|\n",
            "|[0.0453,0.0523,0....|  1.0|\n",
            "|[0.0262,0.0582,0....|  1.0|\n",
            "+--------------------+-----+\n",
            "only showing top 3 rows\n",
            "\n"
          ],
          "name": "stdout"
        }
      ]
    },
    {
      "cell_type": "code",
      "metadata": {
        "id": "z0UvkpqP023y"
      },
      "source": [
        "from pyspark.ml.classification import LogisticRegression\r\n",
        "\r\n",
        "train_rm, test_rm = inp_rm.randomSplit([0.7, 0.3], seed = 1234)\r\n",
        "logr_rm = LogisticRegression(featuresCol = 'features', labelCol = 'label', maxIter=10)\r\n",
        "logr_mod_rm = logr_rm.fit(train_rm)"
      ],
      "execution_count": null,
      "outputs": []
    },
    {
      "cell_type": "code",
      "metadata": {
        "colab": {
          "base_uri": "https://localhost:8080/",
          "height": 295
        },
        "id": "LnvwWDHN1Mj0",
        "outputId": "4990b0fd-0672-410b-f4db-5dd216a68d82"
      },
      "source": [
        "weights_sorted = np.sort(logr_mod_rm.coefficients)\r\n",
        "plt.plot(weights_sorted)\r\n",
        "plt.ylabel('Coefficient Value')\r\n",
        "plt.xlabel('Order')\r\n",
        "plt.title('Ordered Coefficients')\r\n",
        "plt.show()"
      ],
      "execution_count": null,
      "outputs": [
        {
          "output_type": "display_data",
          "data": {
            "image/png": "[encoded data removed]",
            "text/plain": [
              "<Figure size 432x288 with 1 Axes>"
            ]
          },
          "metadata": {
            "tags": [],
            "needs_background": "light"
          }
        }
      ]
    },
    {
      "cell_type": "code",
      "metadata": {
        "colab": {
          "base_uri": "https://localhost:8080/",
          "height": 267
        },
        "id": "R-tsEp8n1cvk",
        "outputId": "c3acbd00-79b5-4180-e926-c20454abaeab"
      },
      "source": [
        "n_weights = len(logr_mod_rm.coefficients)\r\n",
        "plt.plot(list(zip(range(n_weights))), logr_mod_rm.coefficients)\r\n",
        "plt.show()"
      ],
      "execution_count": null,
      "outputs": [
        {
          "output_type": "display_data",
          "data": {
            "image/png": "[encoded data removed]",
            "text/plain": [
              "<Figure size 432x288 with 1 Axes>"
            ]
          },
          "metadata": {
            "tags": [],
            "needs_background": "light"
          }
        }
      ]
    },
    {
      "cell_type": "code",
      "metadata": {
        "colab": {
          "base_uri": "https://localhost:8080/",
          "height": 313
        },
        "id": "InIVpCPc1mub",
        "outputId": "c73328ac-5055-481f-986d-0764ddc2d2db"
      },
      "source": [
        "train_rm_summary = logr_mod_rm.summary\r\n",
        "roc_rm = train_rm_summary.roc.toPandas()\r\n",
        "plt.plot(roc_rm['FPR'], roc_rm['TPR'])\r\n",
        "plt.title(\"Training ROC curve\")\r\n",
        "plt.xlabel(\"TPR\")\r\n",
        "plt.ylabel(\"FPR\")\r\n",
        "plt.show()\r\n",
        "train_rm_summary.areaUnderROC"
      ],
      "execution_count": null,
      "outputs": [
        {
          "output_type": "display_data",
          "data": {
            "image/png": "[encoded data removed]",
            "text/plain": [
              "<Figure size 432x288 with 1 Axes>"
            ]
          },
          "metadata": {
            "tags": [],
            "needs_background": "light"
          }
        },
        {
          "output_type": "execute_result",
          "data": {
            "text/plain": [
              "0.9602169981916819"
            ]
          },
          "metadata": {
            "tags": []
          },
          "execution_count": 66
        }
      ]
    },
    {
      "cell_type": "code",
      "metadata": {
        "colab": {
          "base_uri": "https://localhost:8080/"
        },
        "id": "waepLJEr114V",
        "outputId": "2254e6fd-5385-4bd8-c56e-141ac2237064"
      },
      "source": [
        "from pyspark.ml.evaluation import BinaryClassificationEvaluator\r\n",
        "\r\n",
        "logr_rm_preds = logr_mod_rm.transform(test_rm)\r\n",
        "logr_rm_preds.select('rawPrediction', 'prediction', 'probability').show(4)\r\n",
        "binclass_eval = BinaryClassificationEvaluator()\r\n",
        "print('Test AOC:', binclass_eval.evaluate(logr_rm_preds))"
      ],
      "execution_count": null,
      "outputs": [
        {
          "output_type": "stream",
          "text": [
            "+--------------------+----------+--------------------+\n",
            "|       rawPrediction|prediction|         probability|\n",
            "+--------------------+----------+--------------------+\n",
            "|[-2.6869660519567...|       1.0|[0.06374685455394...|\n",
            "|[-1.1541307052485...|       1.0|[0.23973540185759...|\n",
            "|[-2.2167748375591...|       1.0|[0.09825418464345...|\n",
            "|[-3.6104086770952...|       1.0|[0.02632884090092...|\n",
            "+--------------------+----------+--------------------+\n",
            "only showing top 4 rows\n",
            "\n",
            "Test AOC: 0.8379629629629627\n"
          ],
          "name": "stdout"
        }
      ]
    },
    {
      "cell_type": "markdown",
      "metadata": {
        "id": "nBopLaozpE9L"
      },
      "source": [
        "## 4. Spark unstructured API"
      ]
    },
    {
      "cell_type": "markdown",
      "metadata": {
        "id": "6p_WqkTmqNT9"
      },
      "source": [
        "#### Parallelize\r\n",
        "\r\n",
        "Creates an RDD by distributing the contents of the parameter"
      ]
    },
    {
      "cell_type": "code",
      "metadata": {
        "colab": {
          "base_uri": "https://localhost:8080/"
        },
        "id": "GCh9k6fmpIKk",
        "outputId": "b12f581e-42f1-4ede-dd54-dcf2cf748d65"
      },
      "source": [
        "from pyspark import SparkContext, SparkConf\r\n",
        "\r\n",
        "conf = SparkConf().setAppName(\"spark-unstructured-api\")\r\n",
        "sc = SparkContext.getOrCreate(conf=conf)\r\n",
        "\r\n",
        "rdd = sc.parallelize([2, 3, 5, 7,\r\n",
        "                      11, 13, 17, 19,\r\n",
        "                      23, 29, 31, 37,\r\n",
        "                      41, 43, 47, 53])\r\n",
        "rdd"
      ],
      "execution_count": null,
      "outputs": [
        {
          "output_type": "execute_result",
          "data": {
            "text/plain": [
              "ParallelCollectionRDD[0] at parallelize at PythonRDD.scala:195"
            ]
          },
          "metadata": {
            "tags": []
          },
          "execution_count": 93
        }
      ]
    },
    {
      "cell_type": "code",
      "metadata": {
        "colab": {
          "base_uri": "https://localhost:8080/"
        },
        "id": "VhUX41Ptpht4",
        "outputId": "43be86e3-0a35-44e1-fb1d-b83dcf1d8b44"
      },
      "source": [
        "type(rdd)"
      ],
      "execution_count": null,
      "outputs": [
        {
          "output_type": "execute_result",
          "data": {
            "text/plain": [
              "pyspark.rdd.RDD"
            ]
          },
          "metadata": {
            "tags": []
          },
          "execution_count": 94
        }
      ]
    },
    {
      "cell_type": "markdown",
      "metadata": {
        "id": "mgLXACbSqWj7"
      },
      "source": [
        "#### Collect\r\n",
        "\r\n",
        "Access the elements of an RDD and display them"
      ]
    },
    {
      "cell_type": "code",
      "metadata": {
        "colab": {
          "base_uri": "https://localhost:8080/"
        },
        "id": "WEBFxs8RqaPy",
        "outputId": "814a6475-05c1-4af2-feb0-f88254185f94"
      },
      "source": [
        "rdd.collect()"
      ],
      "execution_count": null,
      "outputs": [
        {
          "output_type": "execute_result",
          "data": {
            "text/plain": [
              "[2, 3, 5, 7, 11, 13, 17, 19, 23, 29, 31, 37, 41, 43, 47, 53]"
            ]
          },
          "metadata": {
            "tags": []
          },
          "execution_count": 95
        }
      ]
    },
    {
      "cell_type": "markdown",
      "metadata": {
        "id": "gf5ByTU1qsXJ"
      },
      "source": [
        "#### Take, First\r\n",
        "\r\n",
        "`take(n)` returns a list containing the first n elements of an RDD,\r\n",
        "`first()` returns the first element"
      ]
    },
    {
      "cell_type": "code",
      "metadata": {
        "colab": {
          "base_uri": "https://localhost:8080/"
        },
        "id": "2n8FBTIkqgP4",
        "outputId": "6afcf4b7-0a79-4724-ac4e-1ff5908d021b"
      },
      "source": [
        "rdd.take(4)"
      ],
      "execution_count": null,
      "outputs": [
        {
          "output_type": "execute_result",
          "data": {
            "text/plain": [
              "[2, 3, 5, 7]"
            ]
          },
          "metadata": {
            "tags": []
          },
          "execution_count": 96
        }
      ]
    },
    {
      "cell_type": "code",
      "metadata": {
        "colab": {
          "base_uri": "https://localhost:8080/"
        },
        "id": "imaHnvUsrKLs",
        "outputId": "388db001-b298-411a-c5ae-220b2551abfd"
      },
      "source": [
        "rdd.first()"
      ],
      "execution_count": null,
      "outputs": [
        {
          "output_type": "execute_result",
          "data": {
            "text/plain": [
              "2"
            ]
          },
          "metadata": {
            "tags": []
          },
          "execution_count": 97
        }
      ]
    },
    {
      "cell_type": "markdown",
      "metadata": {
        "id": "CUW4IGRNrWGD"
      },
      "source": [
        "#### Count\r\n",
        "\r\n",
        "Returns the number of elements in an RDD"
      ]
    },
    {
      "cell_type": "code",
      "metadata": {
        "colab": {
          "base_uri": "https://localhost:8080/"
        },
        "id": "kxJERRMerVcU",
        "outputId": "cc08b116-264d-4c79-b90b-57977141d9b8"
      },
      "source": [
        "rdd.count()"
      ],
      "execution_count": null,
      "outputs": [
        {
          "output_type": "execute_result",
          "data": {
            "text/plain": [
              "16"
            ]
          },
          "metadata": {
            "tags": []
          },
          "execution_count": 73
        }
      ]
    },
    {
      "cell_type": "markdown",
      "metadata": {
        "id": "qO7g5t5vrb55"
      },
      "source": [
        "#### Min, Max\r\n",
        "\r\n",
        "Return the minimum and maximum of an RDD"
      ]
    },
    {
      "cell_type": "code",
      "metadata": {
        "colab": {
          "base_uri": "https://localhost:8080/",
          "height": 36
        },
        "id": "kZ108Dt-rL2x",
        "outputId": "b9d90641-e058-4ec6-ef9f-ae44ce40bd9d"
      },
      "source": [
        "ds = sc.parallelize(['c', 'b', 'a', 'd'])\r\n",
        "ds.min()"
      ],
      "execution_count": null,
      "outputs": [
        {
          "output_type": "execute_result",
          "data": {
            "application/vnd.google.colaboratory.intrinsic+json": {
              "type": "string"
            },
            "text/plain": [
              "'a'"
            ]
          },
          "metadata": {
            "tags": []
          },
          "execution_count": 98
        }
      ]
    },
    {
      "cell_type": "code",
      "metadata": {
        "colab": {
          "base_uri": "https://localhost:8080/",
          "height": 36
        },
        "id": "xhE5ekQqr8eH",
        "outputId": "34e7119e-d48f-4744-f852-36c0a6cd7b40"
      },
      "source": [
        "ds.max()"
      ],
      "execution_count": null,
      "outputs": [
        {
          "output_type": "execute_result",
          "data": {
            "application/vnd.google.colaboratory.intrinsic+json": {
              "type": "string"
            },
            "text/plain": [
              "'d'"
            ]
          },
          "metadata": {
            "tags": []
          },
          "execution_count": 99
        }
      ]
    },
    {
      "cell_type": "markdown",
      "metadata": {
        "id": "agsTa--cr-pK"
      },
      "source": [
        "#### Variance, Stdev, SampleVariance, SampleStdev\r\n",
        "\r\n",
        "`variance`, `stdev` return the variance and standard deviation of\r\n",
        "the elements of an RDD\r\n",
        "\r\n",
        "`sampleVariance`, `sampleStdev` return the unbiased variance\r\n",
        "and deviation"
      ]
    },
    {
      "cell_type": "code",
      "metadata": {
        "colab": {
          "base_uri": "https://localhost:8080/"
        },
        "id": "cUyhR9ALspt_",
        "outputId": "c800708a-f695-483b-b999-bcc38e79a750"
      },
      "source": [
        "ds = sc.parallelize([-2, -1, 0, 1, 2])\r\n",
        "ds.variance()"
      ],
      "execution_count": null,
      "outputs": [
        {
          "output_type": "execute_result",
          "data": {
            "text/plain": [
              "2.0"
            ]
          },
          "metadata": {
            "tags": []
          },
          "execution_count": 100
        }
      ]
    },
    {
      "cell_type": "code",
      "metadata": {
        "colab": {
          "base_uri": "https://localhost:8080/"
        },
        "id": "m1q4qzuXsuWS",
        "outputId": "dabdd8cf-8b20-4063-d6f0-78986de3e3a8"
      },
      "source": [
        "ds.stdev()"
      ],
      "execution_count": null,
      "outputs": [
        {
          "output_type": "execute_result",
          "data": {
            "text/plain": [
              "1.4142135623730951"
            ]
          },
          "metadata": {
            "tags": []
          },
          "execution_count": 101
        }
      ]
    },
    {
      "cell_type": "code",
      "metadata": {
        "colab": {
          "base_uri": "https://localhost:8080/"
        },
        "id": "XM_xpGz5swV0",
        "outputId": "44f2e1e4-2f67-4ea4-e21e-9b3dc523a4bc"
      },
      "source": [
        "ds.sampleVariance()"
      ],
      "execution_count": null,
      "outputs": [
        {
          "output_type": "execute_result",
          "data": {
            "text/plain": [
              "2.5"
            ]
          },
          "metadata": {
            "tags": []
          },
          "execution_count": 102
        }
      ]
    },
    {
      "cell_type": "code",
      "metadata": {
        "colab": {
          "base_uri": "https://localhost:8080/"
        },
        "id": "sFnz_MK7syGM",
        "outputId": "fa7f4900-094d-451c-dcfb-ff7d16eaf74a"
      },
      "source": [
        "ds.sampleStdev()"
      ],
      "execution_count": null,
      "outputs": [
        {
          "output_type": "execute_result",
          "data": {
            "text/plain": [
              "1.5811388300841898"
            ]
          },
          "metadata": {
            "tags": []
          },
          "execution_count": 79
        }
      ]
    },
    {
      "cell_type": "markdown",
      "metadata": {
        "id": "7t8yXmqivMIg"
      },
      "source": [
        "#### Map\r\n",
        "\r\n",
        "Applies a function to each element of an RDD"
      ]
    },
    {
      "cell_type": "code",
      "metadata": {
        "colab": {
          "base_uri": "https://localhost:8080/"
        },
        "id": "R5_EuSuEvL5f",
        "outputId": "8f43a4b1-9f25-4d80-b0ee-043d73cf1212"
      },
      "source": [
        "f = sc.textFile(data_path + \"measurements.csv\")\r\n",
        "f.take(2)"
      ],
      "execution_count": null,
      "outputs": [
        {
          "output_type": "execute_result",
          "data": {
            "text/plain": [
              "['88118,2015-10-30,Ozone,Rimini,79',\n",
              " '927170,2015-10-08,Particulate matter,Ravenna,25']"
            ]
          },
          "metadata": {
            "tags": []
          },
          "execution_count": 103
        }
      ]
    },
    {
      "cell_type": "code",
      "metadata": {
        "colab": {
          "base_uri": "https://localhost:8080/"
        },
        "id": "0-465_WwszoF",
        "outputId": "8e203beb-e82b-46c9-ebcc-5fa295e77afa"
      },
      "source": [
        "f.map(lambda l: l.split(\",\")).take(2)"
      ],
      "execution_count": null,
      "outputs": [
        {
          "output_type": "execute_result",
          "data": {
            "text/plain": [
              "[['88118', '2015-10-30', 'Ozone', 'Rimini', '79'],\n",
              " ['927170', '2015-10-08', 'Particulate matter', 'Ravenna', '25']]"
            ]
          },
          "metadata": {
            "tags": []
          },
          "execution_count": 81
        }
      ]
    },
    {
      "cell_type": "markdown",
      "metadata": {
        "id": "_w3lc12Fwib_"
      },
      "source": [
        "#### MapValues\r\n",
        "\r\n",
        "Applies a function to the values of the elements of an RDD\r\n",
        "without changing keys or partitioning.\r\n",
        "The value of an element of an RDD is the second component"
      ]
    },
    {
      "cell_type": "code",
      "metadata": {
        "colab": {
          "base_uri": "https://localhost:8080/"
        },
        "id": "qoWyYl6DwlHV",
        "outputId": "7c04e395-a20f-4918-ae79-5a94c9a1fba6"
      },
      "source": [
        "f.map(lambda l: l.split(\",\")).mapValues(lambda x: x[:4]).take(2)"
      ],
      "execution_count": null,
      "outputs": [
        {
          "output_type": "execute_result",
          "data": {
            "text/plain": [
              "[('88118', '2015'), ('927170', '2015')]"
            ]
          },
          "metadata": {
            "tags": []
          },
          "execution_count": 104
        }
      ]
    },
    {
      "cell_type": "markdown",
      "metadata": {
        "id": "qO1subPiyOnj"
      },
      "source": [
        "#### FlatMap\r\n",
        "\r\n",
        "Applies a function to each element of an RDD, then “flattens”\r\n",
        "the result, that is, eliminates nesting preserving values"
      ]
    },
    {
      "cell_type": "code",
      "metadata": {
        "colab": {
          "base_uri": "https://localhost:8080/"
        },
        "id": "eRZO3IwHwp5r",
        "outputId": "45e1c1d9-7fff-4e50-8435-6dc54076f344"
      },
      "source": [
        "rdd = sc.parallelize([2, 3, 4])\r\n",
        "sorted(rdd.flatMap(lambda x: [(x, x), (x, x)]).collect())"
      ],
      "execution_count": null,
      "outputs": [
        {
          "output_type": "execute_result",
          "data": {
            "text/plain": [
              "[(2, 2), (2, 2), (3, 3), (3, 3), (4, 4), (4, 4)]"
            ]
          },
          "metadata": {
            "tags": []
          },
          "execution_count": 105
        }
      ]
    },
    {
      "cell_type": "markdown",
      "metadata": {
        "id": "vHlWkkNAyuQz"
      },
      "source": [
        "#### Zip\r\n",
        "\r\n",
        "Transposes two RDDs, concatenating the elements with the\r\n",
        "same position"
      ]
    },
    {
      "cell_type": "code",
      "metadata": {
        "colab": {
          "base_uri": "https://localhost:8080/"
        },
        "id": "gGOmqMBAybYG",
        "outputId": "92d1ef64-be07-4b2d-b44c-802643714fb0"
      },
      "source": [
        "benchmarks1 = sc.parallelize([1.83,  7.56,  7.30,  5.20,  8.95])\r\n",
        "benchmarks2 = sc.parallelize([27.54, 57.48, 60.86, 33.25, 36.34])\r\n",
        "benchmarks1.zip(benchmarks2).collect()"
      ],
      "execution_count": null,
      "outputs": [
        {
          "output_type": "execute_result",
          "data": {
            "text/plain": [
              "[(1.83, 27.54), (7.56, 57.48), (7.3, 60.86), (5.2, 33.25), (8.95, 36.34)]"
            ]
          },
          "metadata": {
            "tags": []
          },
          "execution_count": 106
        }
      ]
    },
    {
      "cell_type": "markdown",
      "metadata": {
        "id": "kxDbDMFyzpPU"
      },
      "source": [
        "#### ZipWithIndex\r\n",
        "\r\n",
        "Associates with each element of a RDD a progressive integer\r\n",
        "number, starting at 0. Equivalent to `zip()` with 0, 1, 2, 3..."
      ]
    },
    {
      "cell_type": "code",
      "metadata": {
        "colab": {
          "base_uri": "https://localhost:8080/"
        },
        "id": "edn42TAQzysC",
        "outputId": "e6a13c1f-a194-4794-b9c9-9b88f095b731"
      },
      "source": [
        "benchmarks1.zipWithIndex().collect()"
      ],
      "execution_count": null,
      "outputs": [
        {
          "output_type": "execute_result",
          "data": {
            "text/plain": [
              "[(1.83, 0), (7.56, 1), (7.3, 2), (5.2, 3), (8.95, 4)]"
            ]
          },
          "metadata": {
            "tags": []
          },
          "execution_count": 107
        }
      ]
    },
    {
      "cell_type": "markdown",
      "metadata": {
        "id": "wai_QiYY0ZqK"
      },
      "source": [
        "#### TakeSample\r\n",
        "\r\n",
        "Returns a fixed cardinality sample of an RDD. First argument:\r\n",
        "True -> replacement, False -> without replacement.\r\n",
        "Suitable for small cardinality samples"
      ]
    },
    {
      "cell_type": "code",
      "metadata": {
        "colab": {
          "base_uri": "https://localhost:8080/"
        },
        "id": "0Ratw1fEz59G",
        "outputId": "68555739-2323-488f-b631-711f07023199"
      },
      "source": [
        "f = sc.textFile(data_path + \"measurements.csv\")\r\n",
        "f.map(lambda l: l.split(\",\")).takeSample(False, 3)"
      ],
      "execution_count": null,
      "outputs": [
        {
          "output_type": "execute_result",
          "data": {
            "text/plain": [
              "[['657480', '2015-05-03', 'Ozone', 'Cesena', '32'],\n",
              " ['848686', '2015-03-23', 'Ozone', 'Ravenna', '63'],\n",
              " ['736202', '2015-02-27', 'Ozone', 'Modena', '62']]"
            ]
          },
          "metadata": {
            "tags": []
          },
          "execution_count": 108
        }
      ]
    },
    {
      "cell_type": "markdown",
      "metadata": {
        "id": "Firk9Tyu1AXl"
      },
      "source": [
        "#### Filter\r\n",
        "\r\n",
        "Select the elements of an RDD that make an expression true"
      ]
    },
    {
      "cell_type": "code",
      "metadata": {
        "colab": {
          "base_uri": "https://localhost:8080/"
        },
        "id": "BfW7mN4q1Dwi",
        "outputId": "9635c39f-a9c7-4d63-d0a6-28bfbaac4753"
      },
      "source": [
        "f.map(lambda l: l.split(\",\")).filter(lambda x: x[1] >= '2015-03-01').take(3)"
      ],
      "execution_count": null,
      "outputs": [
        {
          "output_type": "execute_result",
          "data": {
            "text/plain": [
              "[['88118', '2015-10-30', 'Ozone', 'Rimini', '79'],\n",
              " ['927170', '2015-10-08', 'Particulate matter', 'Ravenna', '25'],\n",
              " ['697379', '2015-12-13', 'Ozone', 'Cesena', '0']]"
            ]
          },
          "metadata": {
            "tags": []
          },
          "execution_count": 109
        }
      ]
    },
    {
      "cell_type": "markdown",
      "metadata": {
        "id": "T1mtGMqc1jvl"
      },
      "source": [
        "#### Keys\r\n",
        "\r\n",
        "Returns an RDD containing the keys of the RDD passed as a\r\n",
        "parameter.\r\n",
        "The term \"key\" does not imply the assumption or imposition of\r\n",
        "any relational constraint"
      ]
    },
    {
      "cell_type": "code",
      "metadata": {
        "colab": {
          "base_uri": "https://localhost:8080/"
        },
        "id": "EdBQP-je1Pua",
        "outputId": "0d6edd4a-d35d-47f5-869e-9fb0977a39c3"
      },
      "source": [
        "rdd = sc.parallelize([[2.0, 5.0, 1.0],\r\n",
        "                      [43.0, 10.0, 1.5],\r\n",
        "                      [1., 0., 1.0],\r\n",
        "                      [-1., 100., 1.5],\r\n",
        "                      [2.0, 1.0, 1.0]])\r\n",
        "rdd.keys().collect()"
      ],
      "execution_count": null,
      "outputs": [
        {
          "output_type": "execute_result",
          "data": {
            "text/plain": [
              "[2.0, 43.0, 1.0, -1.0, 2.0]"
            ]
          },
          "metadata": {
            "tags": []
          },
          "execution_count": 110
        }
      ]
    },
    {
      "cell_type": "markdown",
      "metadata": {
        "id": "cxpN-r5tj-WV"
      },
      "source": [
        "#### Intersection, Union"
      ]
    },
    {
      "cell_type": "code",
      "metadata": {
        "colab": {
          "base_uri": "https://localhost:8080/"
        },
        "id": "v4zXR3V3kB4D",
        "outputId": "5eb3ce9a-1c0f-4254-eeb7-c3ca9ebdbfa0"
      },
      "source": [
        "rdd1 = sc.parallelize([4, 5, 2, 6, 0, -1])\r\n",
        "rdd2 = sc.parallelize([0, 2, 9, -1, 0, -10, 4])\r\n",
        "\r\n",
        "rdd1.intersection(rdd2).collect()"
      ],
      "execution_count": null,
      "outputs": [
        {
          "output_type": "execute_result",
          "data": {
            "text/plain": [
              "[4, 0, 2, -1]"
            ]
          },
          "metadata": {
            "tags": []
          },
          "execution_count": 111
        }
      ]
    },
    {
      "cell_type": "code",
      "metadata": {
        "colab": {
          "base_uri": "https://localhost:8080/"
        },
        "id": "BC9MCGVCkIax",
        "outputId": "4db16a9a-c94a-4674-983a-1bbe060e67ae"
      },
      "source": [
        "rdd1.union(rdd2).collect()"
      ],
      "execution_count": null,
      "outputs": [
        {
          "output_type": "execute_result",
          "data": {
            "text/plain": [
              "[4, 5, 2, 6, 0, -1, 0, 2, 9, -1, 0, -10, 4]"
            ]
          },
          "metadata": {
            "tags": []
          },
          "execution_count": 112
        }
      ]
    },
    {
      "cell_type": "markdown",
      "metadata": {
        "id": "A0yAtQyhkSn3"
      },
      "source": [
        "#### GroupByKey\r\n",
        "\r\n",
        "Returns an RDD of lists [k, v] in which v is the list of values of\r\n",
        "the elements with key k in the RDD that calls the method"
      ]
    },
    {
      "cell_type": "code",
      "metadata": {
        "colab": {
          "base_uri": "https://localhost:8080/"
        },
        "id": "uDyRERdulqy5",
        "outputId": "c1b041e5-c33d-4d5f-ba5b-ff52cc9c8344"
      },
      "source": [
        "f = sc.textFile(data_path + \"measurements.csv\")\r\n",
        "f1 = f.map(lambda l: l.split(\",\"))\r\n",
        "f2 = f1.map(lambda x: [x[3], x[:3]+[x[4]]])\r\n",
        "f2.first()"
      ],
      "execution_count": null,
      "outputs": [
        {
          "output_type": "execute_result",
          "data": {
            "text/plain": [
              "['Rimini', ['88118', '2015-10-30', 'Ozone', '79']]"
            ]
          },
          "metadata": {
            "tags": []
          },
          "execution_count": 113
        }
      ]
    },
    {
      "cell_type": "code",
      "metadata": {
        "colab": {
          "base_uri": "https://localhost:8080/"
        },
        "id": "VY6dZN8Ql0Px",
        "outputId": "5a22d4bc-5f8b-47e5-971c-a7bbdc4eab0e"
      },
      "source": [
        "f2.groupByKey().mapValues(list).first()"
      ],
      "execution_count": null,
      "outputs": [
        {
          "output_type": "execute_result",
          "data": {
            "text/plain": [
              "('Rimini',\n",
              " [['88118', '2015-10-30', 'Ozone', '79'],\n",
              "  ['190115', '2015-02-04', 'Ozone', '59'],\n",
              "  ['102991', '2015-04-02', 'Particulate matter', '41'],\n",
              "  ['709920', '2015-12-23', 'Nitrogen dioxide', '14'],\n",
              "  ['443801', '2015-12-26', 'Benzene', '80'],\n",
              "  ['139230', '2015-06-17', 'Ozone', '58'],\n",
              "  ['551808', '2015-03-04', 'Particulate matter', '34'],\n",
              "  ['788825', '2015-12-31', 'Particulate matter', '89'],\n",
              "  ['704559', '2015-06-15', 'Ozone', '24'],\n",
              "  ['990483', '2015-11-28', 'Particulate matter', '16'],\n",
              "  ['355684', '2015-06-29', 'Ozone', '93'],\n",
              "  ['552771', '2015-11-22', 'Nitrogen dioxide', '24'],\n",
              "  ['738018', '2015-01-17', 'Ozone', '43'],\n",
              "  ['232472', '2015-03-05', 'Particulate matter', '90'],\n",
              "  ['227592', '2015-09-17', 'Ozone', '67'],\n",
              "  ['14418', '2015-04-14', 'Particulate matter', '94']])"
            ]
          },
          "metadata": {
            "tags": []
          },
          "execution_count": 116
        }
      ]
    },
    {
      "cell_type": "markdown",
      "metadata": {
        "id": "u2C8x-xdmVqX"
      },
      "source": [
        "#### Cartesian"
      ]
    },
    {
      "cell_type": "code",
      "metadata": {
        "colab": {
          "base_uri": "https://localhost:8080/"
        },
        "id": "5SXMC5FTmYEP",
        "outputId": "773cdbce-b355-49de-a802-720f971933e9"
      },
      "source": [
        "rdd = sc.parallelize([1, 2, 3])\r\n",
        "rdd.cartesian(rdd).collect()"
      ],
      "execution_count": null,
      "outputs": [
        {
          "output_type": "execute_result",
          "data": {
            "text/plain": [
              "[(1, 1), (1, 2), (1, 3), (2, 1), (3, 1), (2, 2), (2, 3), (3, 2), (3, 3)]"
            ]
          },
          "metadata": {
            "tags": []
          },
          "execution_count": 117
        }
      ]
    },
    {
      "cell_type": "markdown",
      "metadata": {
        "id": "eL9q-djRAJMY"
      },
      "source": [
        "#### Word Count\r\n",
        "\r\n",
        "Count the occurrences of words in a text (`chaucer.txt`)\r\n",
        "\r\n",
        "* The map function generates intermediate key-value pairs of\r\n",
        "the form (w; 1), where w is a word in the document, in\r\n",
        "parallel on all computing nodes.\r\n",
        "* The intermediate pairs are grouped by key in parallel on all\r\n",
        "nodes\r\n",
        "* The reduce function sums all the 1’s associated to each w"
      ]
    },
    {
      "cell_type": "code",
      "metadata": {
        "colab": {
          "base_uri": "https://localhost:8080/"
        },
        "id": "j9b3Eii-jLIZ",
        "outputId": "33bc9bff-ea26-4f7b-dae1-49ff10900177"
      },
      "source": [
        "def word_count():\r\n",
        "   conf = SparkConf().setAppName(\"SparkWordCount\")\r\n",
        "   sc = SparkContext.getOrCreate(conf=conf)\r\n",
        "   input_file = sc.textFile(data_path + 'chaucer.txt')\r\n",
        "   counts = input_file.flatMap(lambda line: line.split()) \\\r\n",
        "                     .map(lambda word: (word, 1)) \\\r\n",
        "                     .reduceByKey(lambda a, b: a + b)\r\n",
        "   counts.saveAsTextFile('output-WordCount')\r\n",
        "   #sc.stop()\r\n",
        "\r\n",
        "word_count()\r\n",
        "print(\"Execution done\")"
      ],
      "execution_count": null,
      "outputs": [
        {
          "output_type": "stream",
          "text": [
            "Execution done\n"
          ],
          "name": "stdout"
        }
      ]
    }
  ]
}